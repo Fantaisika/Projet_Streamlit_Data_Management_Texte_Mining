{
 "cells": [
  {
   "cell_type": "markdown",
   "metadata": {},
   "source": []
  },
  {
   "cell_type": "markdown",
   "metadata": {},
   "source": [
    "\n",
    "\n",
    "# Lien_article_Texte_Mining :\n",
    " https://www.cnews.fr/france/2024-12-03/arnaque-la-copie-de-cb-attention-cette-escroquerie-qui-touche-de-nombreux-francais\n",
    "\n",
    " # Date de publication:\n",
    " le 3 décembre 2024 \n",
    "\n",
    " # site de publication:\n",
    " CNEWS\n",
    "\n",
    " # Résumé de l'article:\n",
    " Cet article informe sur le démantèlement, en novembre 2024, d'un réseau de fraudeurs spécialisés dans le « skimming » à Toulouse. Cette technique permet de cloner des cartes bancaires en manipulant des terminaux de paiement pour accéder aux comptes des victimes. Les cartes clonées servent à des achats en ligne sur des sites à faible sécurité ou leurs données sont revendues. Malgré une baisse signalée du skimming en France, la Fédération bancaire recommande une vigilance accrue des comptes pour détecter toute fraude\n",
    "\n"
   ]
  },
  {
   "cell_type": "markdown",
   "metadata": {},
   "source": [
    "Etape du Texte_Mining de notre data_text"
   ]
  },
  {
   "cell_type": "markdown",
   "metadata": {},
   "source": [
    "Etape du Pré-processing\n",
    "\n",
    "Import des librairies utiles "
   ]
  },
  {
   "cell_type": "code",
   "execution_count": 1,
   "metadata": {},
   "outputs": [],
   "source": [
    "# Pour le data management \n",
    "import pandas as pd\n",
    "import numpy as np\n",
    "\n",
    "# Pour le pré processing\n",
    "from unidecode import unidecode\n",
    "import re\n",
    "from nltk.stem import SnowballStemmer\n",
    "from nltk.corpus import stopwords\n",
    "import nltk\n",
    "\n",
    "# Les bigrammes\n",
    "from collections import Counter\n",
    "from nltk.util import ngrams\n",
    "from collections import defaultdict\n",
    "\n",
    "# Pour la vectorisation\n",
    "from sklearn.feature_extraction.text import TfidfVectorizer \n",
    "\n",
    "# Pour la modélisation\n",
    "from sklearn.model_selection import train_test_split\n",
    "from sklearn.metrics import f1_score, recall_score, precision_score\n",
    "\n",
    "from sklearn.naive_bayes import GaussianNB"
   ]
  },
  {
   "cell_type": "markdown",
   "metadata": {},
   "source": [
    "1.Découverte et exploration des données\n",
    "  1.1. Import de la l'article à partir de telechargement en fichier text"
   ]
  },
  {
   "cell_type": "markdown",
   "metadata": {},
   "source": [
    "1.Extraction de la data_texte"
   ]
  },
  {
   "cell_type": "code",
   "execution_count": 2,
   "metadata": {},
   "outputs": [
    {
     "name": "stdout",
     "output_type": "stream",
     "text": [
      "Texte extrait avec succès.\n"
     ]
    }
   ],
   "source": [
    "# Chemin du fichier texte\n",
    "file_path = \"articles/Arnaque à la copie de CB _ attention à cette escroquerie qui a touché de nombreux français.txt\"\n",
    "\n",
    "# Lecture du fichier texte\n",
    "with open(file_path, \"r\", encoding=\"utf-8\") as file:\n",
    "    article_text = file.read()\n",
    "print(\"Texte extrait avec succès.\")\n",
    "\n"
   ]
  },
  {
   "cell_type": "markdown",
   "metadata": {},
   "source": [
    "Exploration de nos données texte"
   ]
  },
  {
   "cell_type": "code",
   "execution_count": 3,
   "metadata": {},
   "outputs": [
    {
     "data": {
      "text/plain": [
       "22231"
      ]
     },
     "execution_count": 3,
     "metadata": {},
     "output_type": "execute_result"
    }
   ],
   "source": [
    "# determinons la longueur de data  brutes (sans traitement)\n",
    "len(article_text)\n",
    "\n",
    "# nos data texte contient 22 231 caractères(y compris espace , ponctuation etc)"
   ]
  },
  {
   "cell_type": "code",
   "execution_count": 4,
   "metadata": {},
   "outputs": [
    {
     "data": {
      "text/plain": [
       "['<https://www.cnews.fr/rechercher>',\n",
       " 'CNEWS',\n",
       " '|',\n",
       " 'Actualités,',\n",
       " 'Infos',\n",
       " 'et',\n",
       " 'News',\n",
       " 'en',\n",
       " 'direct',\n",
       " 'vidéo',\n",
       " 'et',\n",
       " 'replay',\n",
       " '<https://',\n",
       " 'www.cnews.fr/>',\n",
       " '*',\n",
       " 'Les',\n",
       " 'replays',\n",
       " '<https://www.cnews.fr/les-replays>',\n",
       " '*',\n",
       " 'Les',\n",
       " 'podcasts',\n",
       " '<https://www.cnews.fr/les-podcasts>',\n",
       " 'Thèmes',\n",
       " '*',\n",
       " 'Faits',\n",
       " 'divers',\n",
       " '<https://www.cnews.fr/faits-divers>',\n",
       " '*',\n",
       " 'Colère',\n",
       " 'des',\n",
       " 'agriculteurs',\n",
       " '<https://www.cnews.fr/agriculture>',\n",
       " '*',\n",
       " 'Proche-Orient',\n",
       " '<https://www.cnews.fr/proche-orient>',\n",
       " '*',\n",
       " 'Politique',\n",
       " '<https://www.cnews.fr/politique>',\n",
       " '*',\n",
       " 'France',\n",
       " '<https://www.cnews.fr/france>',\n",
       " '*',\n",
       " 'Monde',\n",
       " '<https://www.cnews.fr/monde>',\n",
       " '*',\n",
       " 'Paris',\n",
       " '<https://www.cnews.fr/paris>',\n",
       " '*',\n",
       " 'Culture',\n",
       " '<https://www.cnews.fr/culture>',\n",
       " '*',\n",
       " 'Divertissement',\n",
       " '<https://www.cnews.fr/divertissement>',\n",
       " '*',\n",
       " 'People',\n",
       " '<https://www.cnews.fr/people>',\n",
       " '*',\n",
       " 'Vie',\n",
       " 'numérique',\n",
       " '<https://www.cnews.fr/vie-numerique>',\n",
       " '*',\n",
       " 'Sport',\n",
       " '<https://www.cnews.fr/sport>',\n",
       " '*',\n",
       " 'Lifestyle',\n",
       " '<https://www.cnews.fr/lifestyle>',\n",
       " '*',\n",
       " 'Beauté',\n",
       " '<https://www.cnews.fr/beaute>',\n",
       " '*',\n",
       " 'Environnement',\n",
       " '<https://www.cnews.fr/environnement>',\n",
       " '*',\n",
       " 'Faits',\n",
       " 'divers',\n",
       " '<https://www.cnews.fr/faits-divers>',\n",
       " '*',\n",
       " 'Insolite',\n",
       " '<https://www.cnews.fr/insolite>',\n",
       " '*',\n",
       " 'Jeux',\n",
       " 'vidéo',\n",
       " '<https://www.cnews.fr/jeux-video>',\n",
       " '*',\n",
       " 'Nutrition',\n",
       " '<https://www.cnews.fr/nutrition>',\n",
       " '*',\n",
       " 'Santé',\n",
       " '<https://www.cnews.fr/sante>',\n",
       " '*',\n",
       " 'Science',\n",
       " '<https://www.cnews.fr/science>',\n",
       " '*',\n",
       " 'Le',\n",
       " 'corner',\n",
       " 'partenaires',\n",
       " '<https://www.cnews.fr/le-corner-partenaires>',\n",
       " '*',\n",
       " 'Météo',\n",
       " '<https://www.cnews.fr/meteo>',\n",
       " '*',\n",
       " 'Astrologie',\n",
       " '<https://www.cnews.fr/astrologie>',\n",
       " '*',\n",
       " 'Jeux',\n",
       " '<https://www.cnews.fr/jeux/tous-les-jeux>',\n",
       " '*',\n",
       " 'Loto',\n",
       " '<https://www.cnews.fr/loto>',\n",
       " '*',\n",
       " 'Programme',\n",
       " 'TV',\n",
       " 'TNT',\n",
       " '<https://www.cnews.fr/programme-tv-tnt>',\n",
       " '*',\n",
       " 'Facebook',\n",
       " '<https://www.facebook.com/CNEWSofficiel>',\n",
       " '*',\n",
       " 'Instagram',\n",
       " '<https://www.instagram.com/cnewsofficiel>',\n",
       " '*',\n",
       " 'Twitter',\n",
       " '<https://twitter.com/CNEWS>',\n",
       " 'Dernière',\n",
       " 'minute',\n",
       " '<https://www.cnews.fr/le-direct>',\n",
       " 'Previous',\n",
       " '17h26',\n",
       " 'Noël',\n",
       " '2024',\n",
       " ':',\n",
       " 'les',\n",
       " 'beaux',\n",
       " 'livres',\n",
       " 'à',\n",
       " 'offrir',\n",
       " 'aux',\n",
       " 'fous',\n",
       " 'de',\n",
       " 'sport',\n",
       " '<https://www.cnews.fr/culture/2024-12-04/noel-2024-les-beaux-livres-',\n",
       " 'offrir-aux-fous-de-sport-1586511>',\n",
       " '17h24',\n",
       " 'Astéroïde',\n",
       " 'en',\n",
       " 'Sibérie',\n",
       " ':',\n",
       " 'les',\n",
       " 'images',\n",
       " 'impressionnant']"
      ]
     },
     "execution_count": 4,
     "metadata": {},
     "output_type": "execute_result"
    }
   ],
   "source": [
    "article_text[:2000].split()"
   ]
  },
  {
   "cell_type": "code",
   "execution_count": 5,
   "metadata": {},
   "outputs": [
    {
     "data": {
      "text/plain": [
       "str"
      ]
     },
     "execution_count": 5,
     "metadata": {},
     "output_type": "execute_result"
    }
   ],
   "source": [
    "# verifions que le contenu de notre données est du type string\n",
    "\n",
    "type(article_text)"
   ]
  },
  {
   "cell_type": "markdown",
   "metadata": {},
   "source": [
    "Je selectionne les lignes "
   ]
  },
  {
   "cell_type": "markdown",
   "metadata": {},
   "source": [
    "2.Prétraitement du texte\n",
    "Nettoyage du texte pour supprimer les caractères inutiles, suppression des accents et des stopwords\n"
   ]
  },
  {
   "cell_type": "code",
   "execution_count": 6,
   "metadata": {},
   "outputs": [
    {
     "name": "stderr",
     "output_type": "stream",
     "text": [
      "[nltk_data] Downloading package stopwords to\n",
      "[nltk_data]     C:\\Users\\fanti\\AppData\\Roaming\\nltk_data...\n",
      "[nltk_data]   Package stopwords is already up-to-date!\n"
     ]
    }
   ],
   "source": [
    "\n",
    "nltk.download('stopwords') # téléchargement du package depuis la bibliothèque NLTK(Natural language Toolkit)\n",
    "stop_words = set(stopwords.words('french'))  #  je charge la ligne des  stopwords pour la langue française\n"
   ]
  },
  {
   "cell_type": "code",
   "execution_count": 7,
   "metadata": {},
   "outputs": [
    {
     "name": "stdout",
     "output_type": "stream",
     "text": [
      "{'par', 'aura', 'me', 'nos', 'ta', 'aurai', 'eue', 'son', 'ne', 'vous', 'avaient', 'seras', 'le', 'fûtes', 'eux', 'un', 'd', 'notre', 't', 'seront', 'soit', 'on', 'fût', 'avais', 'du', 'des', 'ma', 's', 'fûmes', 'fut', 'était', 'sommes', 'vos', 'seriez', 'aurais', 'ayez', 'lui', 'étantes', 'auras', 'sera', 'fussions', 'ton', 'serons', 'eussent', 'une', 'étée', 'ayantes', 'avions', 'eu', 'aurons', 'aurez', 'ils', 'eusse', 'ont', 'ai', 'même', 'serai', 'm', 'n', 'y', 'soyez', 'nous', 'étés', 'sont', 'eût', 'ayante', 'sur', 'aux', 'tes', 'fusse', 'étions', 'fussiez', 'fus', 'il', 'avec', 'qui', 'ses', 'serez', 'eussions', 'aies', 'étées', 'auraient', 'les', 'ces', 'j', 'eussiez', 'ayons', 'qu', 'étant', 'et', 'suis', 'aviez', 'auriez', 'fussent', 'mes', 'eurent', 'eusses', 'pour', 'ait', 'que', 'sois', 'aurait', 'avons', 'soyons', 'se', 'leur', 'sa', 'mais', 'furent', 'soient', 'eus', 'aie', 'étante', 'eûmes', 'c', 'mon', 'ou', 'de', 'eûtes', 'je', 'serais', 'étaient', 'êtes', 'serions', 'été', 'elle', 'fusses', 'eues', 'aient', 'la', 'en', 'avait', 'aurions', 'ayant', 'est', 'serait', 'ce', 'dans', 'à', 'étiez', 'toi', 'moi', 'tu', 'étants', 'es', 'seraient', 'au', 'étais', 'eut', 'te', 'avez', 'l', 'as', 'auront', 'ayants', 'pas', 'votre'}\n"
     ]
    }
   ],
   "source": [
    "print(stop_words)"
   ]
  },
  {
   "cell_type": "markdown",
   "metadata": {},
   "source": [
    "Après le chargement de la liste des mots inutiles (stop_words) pour notre analyse textuelle, nous constatons qu'elle contient un total de 157 termes."
   ]
  },
  {
   "cell_type": "code",
   "execution_count": 8,
   "metadata": {},
   "outputs": [
    {
     "name": "stdout",
     "output_type": "stream",
     "text": [
      "157\n"
     ]
    }
   ],
   "source": [
    "print( len(stop_words))"
   ]
  },
  {
   "cell_type": "markdown",
   "metadata": {},
   "source": [
    "3. passons à  l'étape du pré-procéssing de notre data_texte"
   ]
  },
  {
   "cell_type": "code",
   "execution_count": 9,
   "metadata": {},
   "outputs": [
    {
     "name": "stdout",
     "output_type": "stream",
     "text": [
      "Texte nettoyé avec succès.\n"
     ]
    }
   ],
   "source": [
    "# étape du pré-processing\n",
    "\n",
    "\n",
    "def preprocess_text(text):\n",
    "    text = text.lower()  # Conversion en minuscules\n",
    "    text = unidecode(text)  # Suppression des accents\n",
    "    text = re.sub(r'http\\S+', '', text)  # Suppression des URL\n",
    "    text = re.sub(r'[^a-z\\s]', '', text)  # Suppression des caractères spéciaux\n",
    "    text = re.sub(r'\\b\\w{1,2}\\b', '', text)  # Suppression des mots très courts (1-2 lettres)\n",
    "    text = re.sub(r'\\s+', ' ', text)  # Suppression des espaces multiples\n",
    "    words = text.split()  # Tokenisation\n",
    "    words = [word for word in words if word not in stop_words]  # Suppression des stopwords\n",
    "    return ' '.join(words).split()\n",
    "\n",
    "# Appliquer le nettoyage avancé\n",
    "cleaned_text = preprocess_text(article_text)\n",
    "print(\"Texte nettoyé avec succès.\")\n",
    "\n"
   ]
  },
  {
   "cell_type": "code",
   "execution_count": 10,
   "metadata": {},
   "outputs": [
    {
     "data": {
      "text/plain": [
       "['cnews',\n",
       " 'actualites',\n",
       " 'infos',\n",
       " 'news',\n",
       " 'direct',\n",
       " 'video',\n",
       " 'replay',\n",
       " 'wwwcnewsfr',\n",
       " 'replays',\n",
       " 'podcasts',\n",
       " 'themes',\n",
       " 'faits',\n",
       " 'divers',\n",
       " 'colere',\n",
       " 'agriculteurs',\n",
       " 'procheorient',\n",
       " 'politique',\n",
       " 'france',\n",
       " 'monde',\n",
       " 'paris',\n",
       " 'culture',\n",
       " 'divertissement',\n",
       " 'people',\n",
       " 'vie',\n",
       " 'numerique',\n",
       " 'sport',\n",
       " 'lifestyle',\n",
       " 'beaute',\n",
       " 'environnement',\n",
       " 'faits',\n",
       " 'divers',\n",
       " 'insolite',\n",
       " 'jeux',\n",
       " 'video',\n",
       " 'nutrition',\n",
       " 'sante',\n",
       " 'science',\n",
       " 'corner',\n",
       " 'partenaires',\n",
       " 'meteo',\n",
       " 'astrologie',\n",
       " 'jeux',\n",
       " 'loto',\n",
       " 'programme',\n",
       " 'tnt',\n",
       " 'facebook',\n",
       " 'instagram',\n",
       " 'twitter',\n",
       " 'derniere',\n",
       " 'minute',\n",
       " 'previous',\n",
       " 'noel',\n",
       " 'beaux',\n",
       " 'livres',\n",
       " 'offrir',\n",
       " 'fous',\n",
       " 'sport',\n",
       " 'offrirauxfousdesport',\n",
       " 'asteroide',\n",
       " 'siberie',\n",
       " 'images',\n",
       " 'impressionnantes',\n",
       " 'meteore',\n",
       " 'avant',\n",
       " 'impact',\n",
       " 'video',\n",
       " 'impressionnantesdumeteoreavantsonimpactvideo',\n",
       " 'vents',\n",
       " 'violents',\n",
       " 'voici',\n",
       " 'departements',\n",
       " 'places',\n",
       " 'vigilance',\n",
       " 'jaune',\n",
       " 'jeudi',\n",
       " 'departementsplacesenvigilancejaunecejeudi',\n",
       " 'iran',\n",
       " 'prix',\n",
       " 'nobel',\n",
       " 'paix',\n",
       " 'narges',\n",
       " 'mohammadi',\n",
       " 'sort',\n",
       " 'temporairement',\n",
       " 'prison',\n",
       " 'raisons',\n",
       " 'sante',\n",
       " 'nargesmohammadisorttemporairementdeprisonpour',\n",
       " 'francais',\n",
       " 'posent',\n",
       " 'tous',\n",
       " 'meme',\n",
       " 'question',\n",
       " 'largent',\n",
       " 'tonne',\n",
       " 'marine',\n",
       " 'pen',\n",
       " 'avant',\n",
       " 'vote',\n",
       " 'motions',\n",
       " 'memequestionouvalargenttonnemarinelepen',\n",
       " 'noel',\n",
       " 'beaux',\n",
       " 'livres',\n",
       " 'offrir',\n",
       " 'fous',\n",
       " 'sport',\n",
       " 'offrirauxfousdesport',\n",
       " 'asteroide',\n",
       " 'siberie',\n",
       " 'images',\n",
       " 'impressionnantes',\n",
       " 'meteore',\n",
       " 'avant',\n",
       " 'impact',\n",
       " 'video',\n",
       " 'impressionnantesdumeteoreavantsonimpactvideo',\n",
       " 'vents',\n",
       " 'violents',\n",
       " 'voici',\n",
       " 'departements',\n",
       " 'places',\n",
       " 'vigilance',\n",
       " 'jaune',\n",
       " 'jeudi',\n",
       " 'departementsplacesenvigilancejaunecejeudi',\n",
       " 'iran',\n",
       " 'prix',\n",
       " 'nobel',\n",
       " 'paix',\n",
       " 'narges',\n",
       " 'mohammadi',\n",
       " 'sort',\n",
       " 'temporairement',\n",
       " 'prison',\n",
       " 'raisons',\n",
       " 'sante',\n",
       " 'nargesmohammadisorttemporairementdeprisonpour',\n",
       " 'francais',\n",
       " 'posent',\n",
       " 'tous',\n",
       " 'meme',\n",
       " 'question',\n",
       " 'largent',\n",
       " 'tonne',\n",
       " 'marine',\n",
       " 'pen',\n",
       " 'avant',\n",
       " 'vote',\n",
       " 'motions',\n",
       " 'memequestionouvalargenttonnemarinelepen',\n",
       " 'noel',\n",
       " 'beaux',\n",
       " 'livres',\n",
       " 'offrir',\n",
       " 'fous',\n",
       " 'sport',\n",
       " 'offrirauxfousdesport',\n",
       " 'asteroide',\n",
       " 'siberie',\n",
       " 'images',\n",
       " 'impressionnantes',\n",
       " 'meteore',\n",
       " 'avant',\n",
       " 'impact',\n",
       " 'video',\n",
       " 'impressionnantesdumeteoreavantsonimpactvideo',\n",
       " 'vents',\n",
       " 'violents',\n",
       " 'voici',\n",
       " 'departements',\n",
       " 'places',\n",
       " 'vigilance',\n",
       " 'jaune',\n",
       " 'jeudi',\n",
       " 'departementsplacesenvigilancejaunecejeudi',\n",
       " 'next',\n",
       " 'direct',\n",
       " 'midi',\n",
       " 'news',\n",
       " 'minutes',\n",
       " 'info',\n",
       " 'punchline',\n",
       " 'face',\n",
       " 'linfo',\n",
       " 'derniere',\n",
       " 'minute',\n",
       " 'direct',\n",
       " 'suivre',\n",
       " 'motions',\n",
       " 'censure',\n",
       " 'faits',\n",
       " 'divers',\n",
       " 'politique',\n",
       " 'procheorient',\n",
       " 'france',\n",
       " 'paris',\n",
       " 'sport',\n",
       " 'football',\n",
       " 'divertissement',\n",
       " 'partager',\n",
       " 'wwwcnewsfrfrancearnaquelacopiedecbattentioncette',\n",
       " 'escroqueriequitouchedenombreux',\n",
       " 'francaistarnaquecalacopiedecbaattentioncacetteescroqueriequiatouchcadenombreuxfrancaais',\n",
       " 'tweet',\n",
       " 'arnaque',\n",
       " 'copie',\n",
       " 'attention',\n",
       " 'cette',\n",
       " 'escroquerie',\n",
       " 'touche',\n",
       " 'nombreux',\n",
       " 'francais',\n",
       " 'terminal',\n",
       " 'carte',\n",
       " 'bancaire',\n",
       " 'donnees',\n",
       " 'bancaires',\n",
       " 'peuvent',\n",
       " 'etre',\n",
       " 'fois',\n",
       " 'volees',\n",
       " 'revendues',\n",
       " 'tomek',\n",
       " 'pixabay',\n",
       " 'partager',\n",
       " 'wwwfacebookcomsharersharerphpu',\n",
       " 'francearnaquelacopiedecbattentioncetteescroquerie',\n",
       " 'quitouchedenombreux',\n",
       " 'francaistarnaquecalacopiedecbaattentioncacetteescroqueriequiatouchcadenombreuxfrancaais',\n",
       " 'tweet',\n",
       " 'cnews',\n",
       " 'publie',\n",
       " 'mis',\n",
       " 'jour',\n",
       " 'region',\n",
       " 'toulouse',\n",
       " 'trois',\n",
       " 'individus',\n",
       " 'ete',\n",
       " 'arretes',\n",
       " 'courant',\n",
       " 'novembre',\n",
       " 'pratique',\n",
       " 'skimming',\n",
       " 'methode',\n",
       " 'fraude',\n",
       " 'bancaire',\n",
       " 'touche',\n",
       " 'beaucoup',\n",
       " 'francais',\n",
       " 'dernieres',\n",
       " 'annees',\n",
       " 'quoi',\n",
       " 'consistet',\n",
       " 'operation',\n",
       " 'reussie',\n",
       " 'cote',\n",
       " 'toulouse',\n",
       " 'lantenne',\n",
       " 'cyber',\n",
       " 'section',\n",
       " 'recherches',\n",
       " 'demantele',\n",
       " 'reseau',\n",
       " 'descroquerie',\n",
       " 'carte',\n",
       " 'bancaire',\n",
       " 'annonce',\n",
       " 'gendarmerie',\n",
       " 'samedi',\n",
       " 'novembre',\n",
       " 'accuses',\n",
       " 'etaient',\n",
       " 'passes',\n",
       " 'expert',\n",
       " 'pratique',\n",
       " 'skimming',\n",
       " 'apres',\n",
       " 'larrestation',\n",
       " 'trois',\n",
       " 'ressortissants',\n",
       " 'lest',\n",
       " 'region',\n",
       " 'toulouse',\n",
       " 'fraude',\n",
       " 'carte',\n",
       " 'bancaire',\n",
       " 'autorites',\n",
       " 'alertent',\n",
       " 'skimming',\n",
       " 'toulouse',\n",
       " 'actu',\n",
       " 'toulouseunreseaudeskimmingdemantelecestquoicetteescroquerie',\n",
       " 'surlescartesbancaireshtml',\n",
       " 'lescroquerie',\n",
       " 'skimming',\n",
       " 'consiste',\n",
       " 'cloner',\n",
       " 'carte',\n",
       " 'bancaire',\n",
       " 'trafiquant',\n",
       " 'piratant',\n",
       " 'terminaux',\n",
       " 'paiement',\n",
       " 'lesquels',\n",
       " 'cette',\n",
       " 'carte',\n",
       " 'peut',\n",
       " 'etre',\n",
       " 'inseree',\n",
       " 'comme',\n",
       " 'distributeurs',\n",
       " 'billets',\n",
       " 'automates',\n",
       " 'stationservice',\n",
       " 'explique',\n",
       " 'gendarmerie',\n",
       " 'nationale',\n",
       " 'donnees',\n",
       " 'ensuite',\n",
       " 'dupliquees',\n",
       " 'autre',\n",
       " 'carte',\n",
       " 'puce',\n",
       " 'permettant',\n",
       " 'ainsi',\n",
       " 'dacceder',\n",
       " 'comptes',\n",
       " 'bancaires',\n",
       " 'relies',\n",
       " 'carte',\n",
       " 'majorite',\n",
       " 'cas',\n",
       " 'fraudeurs',\n",
       " 'trafiquent',\n",
       " 'terminaux',\n",
       " 'paiements',\n",
       " 'comme',\n",
       " 'distributeurs',\n",
       " 'billets',\n",
       " 'encore',\n",
       " 'automates',\n",
       " 'installes',\n",
       " 'stationsservices',\n",
       " 'afin',\n",
       " 'copier',\n",
       " 'donnees',\n",
       " 'bancaires',\n",
       " 'bande',\n",
       " 'magnetique',\n",
       " 'elles',\n",
       " 'ensuite',\n",
       " 'transferees',\n",
       " 'autre',\n",
       " 'puce',\n",
       " 'agit',\n",
       " 'comme',\n",
       " 'copie',\n",
       " 'carte',\n",
       " 'skimmer',\n",
       " 'materiel',\n",
       " 'glissant',\n",
       " 'fente',\n",
       " 'dun',\n",
       " 'automate',\n",
       " 'tout',\n",
       " 'laissant',\n",
       " 'lespace',\n",
       " 'quune',\n",
       " 'carte',\n",
       " 'bancaire',\n",
       " 'puisse',\n",
       " 'etre',\n",
       " 'glissee',\n",
       " 'naturellement',\n",
       " 'indiquaient',\n",
       " 'lobservatoire',\n",
       " 'securite',\n",
       " 'moyens',\n",
       " 'paiement',\n",
       " 'osmp',\n",
       " 'copie',\n",
       " 'donnees',\n",
       " 'bancaires',\n",
       " 'nempeche',\n",
       " 'bon',\n",
       " 'fonctionnement',\n",
       " 'carte',\n",
       " 'donnees',\n",
       " 'revendues',\n",
       " 'cartes',\n",
       " 'copiees',\n",
       " 'peuvent',\n",
       " 'etre',\n",
       " 'utilisees',\n",
       " 'distances',\n",
       " 'sites',\n",
       " 'commerces',\n",
       " 'plus',\n",
       " 'souvent',\n",
       " 'noneuropeens',\n",
       " 'pays',\n",
       " 'systeme',\n",
       " 'dauthentification',\n",
       " 'titulaire',\n",
       " 'carte',\n",
       " 'nest',\n",
       " 'actif',\n",
       " 'donnees',\n",
       " 'peuvent',\n",
       " 'egalement',\n",
       " 'etre',\n",
       " 'revendues',\n",
       " 'lespayslesplusconcerneseneurope',\n",
       " 'meme',\n",
       " 'sujetfraude',\n",
       " 'carte',\n",
       " 'bancaire',\n",
       " 'voici',\n",
       " 'pays',\n",
       " 'plus',\n",
       " 'concernes',\n",
       " 'europelire',\n",
       " 'lacartebancairevoicilespayslesplusconcerneseneurope',\n",
       " 'meme',\n",
       " 'federation',\n",
       " 'francaise',\n",
       " 'bancaire',\n",
       " 'fbf',\n",
       " 'indique',\n",
       " 'skimming',\n",
       " 'baisse',\n",
       " 'france',\n",
       " 'conseille',\n",
       " 'surveiller',\n",
       " 'comptes',\n",
       " 'bancaires',\n",
       " 'frequemment',\n",
       " 'prevenir',\n",
       " 'fraudes',\n",
       " 'fraude',\n",
       " 'bancaire',\n",
       " 'wwwcnewsfrcartebancairevol',\n",
       " 'suivre',\n",
       " 'aussi',\n",
       " 'enedis',\n",
       " 'attention',\n",
       " 'compteurs',\n",
       " 'linky',\n",
       " 'feront',\n",
       " 'lobjet',\n",
       " 'controles',\n",
       " 'surprises',\n",
       " 'compteurslinkyferontlobjetdecontrolessurprises',\n",
       " 'carte',\n",
       " 'vitale',\n",
       " 'tout',\n",
       " 'changer',\n",
       " 'changeren',\n",
       " 'fraude',\n",
       " 'millions',\n",
       " 'deuros',\n",
       " 'insolvable',\n",
       " 'couple',\n",
       " 'touchait',\n",
       " 'aides',\n",
       " 'sociales',\n",
       " 'etait',\n",
       " 'millionnaire',\n",
       " 'insolvablelecouplequitouchaitdesaidessociales',\n",
       " 'francearnaquelacopiedecbattentioncetteescroquerie',\n",
       " 'quitouchedenombreux',\n",
       " 'francaistarnaquecalacopiedecbaattentioncacetteescroqueriequiatouchcadenombreuxfrancaais',\n",
       " 'ailleurs',\n",
       " 'web',\n",
       " 'contenus',\n",
       " 'sponsorises',\n",
       " 'templatecolorboxutmsourcecnews',\n",
       " 'cnewsutmmediumreferralutmcontentthumbnails',\n",
       " 'bbelowarticlethumbnailsunitcontenus',\n",
       " 'sponsorises',\n",
       " 'popuptaboolacomfrtemplatecolorboxutmsourcecnews',\n",
       " 'cnewsutmmediumreferralutmcontentthumbnails',\n",
       " 'bbelowarticlethumbnailsunit',\n",
       " 'contenus',\n",
       " 'selectionnes',\n",
       " 'templatecolorboxutmsourcecnews',\n",
       " 'cnewsutmmediumreferralutmcontentthumbnails',\n",
       " 'bbelowarticlethumbnailsunitcontenus',\n",
       " 'selectionnes',\n",
       " 'popuptaboolacomfrtemplatecolorboxutmsourcecnews',\n",
       " 'cnewsutmmediumreferralutmcontentthumbnails',\n",
       " 'bbelowarticlethumbnailsunit',\n",
       " 'utmsourcetbutmmediumcpcutmcampaigngutfdkutmtermcnews',\n",
       " 'cnewsutmcontenttgibnnbdigwshmpfiaiylgdqywdzkvrieycrruyotwnvppwlmlivsgatbtblcigibnnbdigwshmpfiaiylgdqywdzkvrieycrruyotwnvppwlmlivsgtblcigibnnbdigwshmpfiaiylgdqywdzkvrieycrruyotwnvppwlmlivsgnutritionnistes',\n",
       " 'astuce',\n",
       " 'eliminer',\n",
       " 'graisse',\n",
       " 'abdominale',\n",
       " 'prendre',\n",
       " 'avant',\n",
       " 'petitdejeunernva',\n",
       " 'savoir',\n",
       " 'plus',\n",
       " 'utmsourcetbutmmediumcpcutmcampaigngutfdkutmtermcnews',\n",
       " 'cnewsutmcontenttgibnnbdigwshmpfiaiylgdqywdzkvrieycrruyotwnvppwlmlivsgatbtblcigibnnbdigwshmpfiaiylgdqywdzkvrieycrruyotwnvppwlmlivsgtblcigibnnbdigwshmpfiaiylgdqywdzkvrieycrruyotwnvppwlmlivsg',\n",
       " 'annuler',\n",
       " 'utmsourcetbutmcampaigntbdkfutmtermcnews',\n",
       " 'cnewsutmcontenttgibnnbdigwshmpfiaiylgdqywdzkvrieycsfwopjsmtnkcmlivsgatbtblcigibnnbdigwshmpfiaiylgdqywdzkvrieycsfwopjsmtnkcmlivsgtblcigibnnbdigwshmpfiaiylgdqywdzkvrieycsfwopjsmtnkcmlivsgneuropathie',\n",
       " 'insupportable',\n",
       " 'essayez',\n",
       " 'cette',\n",
       " 'astuce',\n",
       " 'simple',\n",
       " 'change',\n",
       " 'toutsb',\n",
       " 'savoir',\n",
       " 'plus',\n",
       " 'utmsourcetbutmcampaigntbdkfutmtermcnews',\n",
       " 'cnewsutmcontenttgibnnbdigwshmpfiaiylgdqywdzkvrieycsfwopjsmtnkcmlivsgatbtblcigibnnbdigwshmpfiaiylgdqywdzkvrieycsfwopjsmtnkcmlivsgtblcigibnnbdigwshmpfiaiylgdqywdzkvrieycsfwopjsmtnkcmlivsg',\n",
       " 'annuler',\n",
       " 'utmsourcetbutmmediumcpcutmcampaigngutfdkutmtermcnews',\n",
       " 'cnewsutmcontenttgibnnbdigwshmpfiaiylgdqywdzkvrieycrruyoicbotldhrsvmlivsgatbtblcigibnnbdigwshmpfiaiylgdqywdzkvrieycrruyoicbotldhrsvmlivsgtblcigibnnbdigwshmpfiaiylgdqywdzkvrieycrruyoicbotldhrsvmlivsgtrop',\n",
       " 'graisse',\n",
       " 'ventre',\n",
       " 'geste',\n",
       " 'simple',\n",
       " 'avant',\n",
       " 'petit',\n",
       " 'dejeunernutravya',\n",
       " 'savoir',\n",
       " 'plus',\n",
       " 'utmsourcetbutmmediumcpcutmcampaigngutfdkutmtermcnews',\n",
       " 'cnewsutmcontenttgibnnbdigwshmpfiaiylgdqywdzkvrieycrruyoicbotldhrsvmlivsgatbtblcigibnnbdigwshmpfiaiylgdqywdzkvrieycrruyoicbotldhrsvmlivsgtblcigibnnbdigwshmpfiaiylgdqywdzkvrieycrruyoicbotldhrsvmlivsg',\n",
       " 'annuler',\n",
       " 'dasoptfpoposlapsllonatsptabkididkpsalescodecvdposnattabotbclickidgibnnbdigwshmpfiaiylgdqywdzkvrieycireoiyeyjbhtyamlivsgtblcigibnnbdigwshmpfiaiylgdqywdzkvrieycireoiyeyjbhtyamlivsgtblcigibnnbdigwshmpfiaiylgdqywdzkvrieycireoiyeyjbhtyamlivsgdurdur',\n",
       " 'daller',\n",
       " 'toilettes',\n",
       " 'faites',\n",
       " 'ceci',\n",
       " 'jour',\n",
       " 'avant',\n",
       " 'petit',\n",
       " 'dejeunerscience',\n",
       " 'actualite',\n",
       " 'annuler',\n",
       " 'sitecnews',\n",
       " 'cnewssiteidtitleplusdepiqcbbresdedoigtfrcaquentespourlasurveillancedelaglyccamieplatformdesktopcampaignidcampaignitemidthumbnail',\n",
       " 'piqures',\n",
       " 'doigt',\n",
       " 'frequentes',\n",
       " 'surveillance',\n",
       " 'glycemiesherum',\n",
       " 'savoir',\n",
       " 'plus',\n",
       " 'sitecnews',\n",
       " 'cnewssiteidtitleplusdepiqcbbresdedoigtfrcaquentespourlasurveillancedelaglyccamieplatformdesktopcampaignidcampaignitemidthumbnail',\n",
       " 'annuler',\n",
       " 'clickidgibnnbdigwshmpfiaiylgdqywdzkvrieyduogcoryqyymvcgwatcrositecnewscnewsthumbnail',\n",
       " 'seniors',\n",
       " 'sarrachent',\n",
       " 'chaussures',\n",
       " 'concues',\n",
       " 'articulations',\n",
       " 'revue',\n",
       " 'confort',\n",
       " 'annuler',\n",
       " 'taboola',\n",
       " 'templatecolorboxutmsourcecnews',\n",
       " 'cnewsutmmediumreferralutmcontentthumbnails',\n",
       " 'bbelowarticlethumbnailsunitpar',\n",
       " 'taboola',\n",
       " 'popuptaboolacomfrtemplatecolorboxutmsourcecnews',\n",
       " 'cnewsutmmediumreferralutmcontentthumbnails',\n",
       " 'bbelowarticlethumbnailsunit',\n",
       " 'dernieres',\n",
       " 'actualites',\n",
       " 'iran',\n",
       " 'prix',\n",
       " 'nobel',\n",
       " 'paix',\n",
       " 'narges',\n",
       " 'mohammadi',\n",
       " 'sort',\n",
       " 'temporairement',\n",
       " 'prison',\n",
       " 'raisons',\n",
       " 'sante',\n",
       " 'nargesmohammadisorttemporairementdeprisonpour',\n",
       " 'francais',\n",
       " 'posent',\n",
       " 'tous',\n",
       " 'meme',\n",
       " 'question',\n",
       " 'largent',\n",
       " 'tonne',\n",
       " 'marine',\n",
       " 'pen',\n",
       " 'avant',\n",
       " 'vote',\n",
       " 'motions',\n",
       " 'censure',\n",
       " 'memequestionouvalargenttonnemarinelepen',\n",
       " 'noel',\n",
       " 'beaux',\n",
       " 'livres',\n",
       " 'offrir',\n",
       " 'fous',\n",
       " 'sport',\n",
       " 'offrirauxfousdesport',\n",
       " 'asteroide',\n",
       " 'siberie',\n",
       " 'images',\n",
       " 'impressionnantes',\n",
       " 'meteore',\n",
       " 'avant',\n",
       " 'impact',\n",
       " 'video',\n",
       " 'impressionnantesdumeteoreavantsonimpactvideo',\n",
       " 'vents',\n",
       " 'violents',\n",
       " 'voici',\n",
       " 'departements',\n",
       " 'places',\n",
       " 'vigilance',\n",
       " 'jaune',\n",
       " 'jeudi',\n",
       " 'departementsplacesenvigilancejaunecejeudi',\n",
       " 'neigeverglas',\n",
       " 'voici',\n",
       " 'departements',\n",
       " 'places',\n",
       " 'vigilance',\n",
       " 'jaune',\n",
       " 'jeudi',\n",
       " 'departementsplacesenvigilancejaunecejeudi',\n",
       " 'prince',\n",
       " 'andrew',\n",
       " 'duc',\n",
       " 'dyork',\n",
       " 'plus',\n",
       " 'isole',\n",
       " 'jamais',\n",
       " 'depuis',\n",
       " 'frere',\n",
       " 'charles',\n",
       " 'iii',\n",
       " 'coupe',\n",
       " 'allocation',\n",
       " 'annuelle',\n",
       " 'isolequejamaisdepuisquesonfrerecharlesiii',\n",
       " 'plus',\n",
       " 'darticles',\n",
       " 'belgique',\n",
       " 'devient',\n",
       " 'premier',\n",
       " 'pays',\n",
       " 'monde',\n",
       " 'permettre',\n",
       " 'travailleurs',\n",
       " 'travailleuses',\n",
       " 'sexe',\n",
       " 'signer',\n",
       " 'contrat',\n",
       " 'travail',\n",
       " 'paysaumondepermettreauxtravailleurset',\n",
       " 'terminal',\n",
       " 'carte',\n",
       " 'bancaire',\n",
       " 'arnaque',\n",
       " 'copie',\n",
       " 'attention',\n",
       " 'cette',\n",
       " 'escroquerie',\n",
       " 'touche',\n",
       " 'nombreux',\n",
       " 'francais',\n",
       " 'attentioncetteescroqueriequitouchedenombreuxfrancais',\n",
       " 'voici',\n",
       " 'pays',\n",
       " 'plus',\n",
       " 'endettes',\n",
       " 'monde',\n",
       " 'endettesaumonde',\n",
       " 'tout',\n",
       " 'parti',\n",
       " 'dune',\n",
       " 'decision',\n",
       " 'larbitre',\n",
       " 'morgue',\n",
       " 'pleine',\n",
       " 'moins',\n",
       " 'morts',\n",
       " 'match',\n",
       " 'foot',\n",
       " 'tourne',\n",
       " 'carnage',\n",
       " 'guinee',\n",
       " 'larbitrelamorgueestpleineaumoinsmortsun',\n",
       " 'greve',\n",
       " 'decembre',\n",
       " 'ecoles',\n",
       " 'hopitaux',\n",
       " 'transports',\n",
       " 'perturbations',\n",
       " 'prevoir',\n",
       " 'jeudi',\n",
       " 'hopitauxtransportscesperturbationsprevoircejeudi',\n",
       " 'accueil',\n",
       " 'suiveznous',\n",
       " 'facebook',\n",
       " 'instagram',\n",
       " 'twitter',\n",
       " 'tiktok',\n",
       " 'mentions',\n",
       " 'legales',\n",
       " 'politique',\n",
       " 'cookies',\n",
       " 'gestion',\n",
       " 'cookies',\n",
       " 'javascriptdidomipreferencesshow',\n",
       " 'cgu',\n",
       " 'actualite',\n",
       " 'mots',\n",
       " 'croises',\n",
       " 'mots',\n",
       " 'fleches',\n",
       " 'solitaire',\n",
       " 'sudoku',\n",
       " 'programme',\n",
       " 'devenir',\n",
       " 'annonceur',\n",
       " 'devenirannonceurcommuniquersurcnews',\n",
       " 'flux',\n",
       " 'rss',\n",
       " 'resultats',\n",
       " 'elections',\n",
       " 'legislatives',\n",
       " 'electionsresultatslegislatives']"
      ]
     },
     "execution_count": 10,
     "metadata": {},
     "output_type": "execute_result"
    }
   ],
   "source": [
    "cleaned_text"
   ]
  },
  {
   "cell_type": "markdown",
   "metadata": {},
   "source": [
    "Après la phase du pré_processing, le texte a été considérablement nettoyé, passant de 22231 termes bruts à seulement 740 mots significatifs prêts pour l'analyse."
   ]
  },
  {
   "cell_type": "code",
   "execution_count": 11,
   "metadata": {},
   "outputs": [
    {
     "name": "stdout",
     "output_type": "stream",
     "text": [
      "Longueur des données brutes (concaténées) : 22231 caractères.\n",
      "Nombre de mots après prétraitement : 740 mots.\n"
     ]
    }
   ],
   "source": [
    "\n",
    "print(f\"Longueur des données brutes (concaténées) : {len(article_text)} caractères.\")\n",
    "print(f\"Nombre de mots après prétraitement : {len(cleaned_text)} mots.\")"
   ]
  },
  {
   "cell_type": "markdown",
   "metadata": {},
   "source": [
    "4.Phase de vectorisation\n",
    "\n",
    " Nous avons opter pour la technique de vectorisation tf-idf(Term-Frequency-Inverse Document Frequency), elle va nous permet de pondérer la fréquence de nos tokens en fonction de son importance relative . \n",
    "\n",
    " On calculera donc le score de chacun des mots dans notre (cleaned_text)\n"
   ]
  },
  {
   "cell_type": "code",
   "execution_count": 12,
   "metadata": {},
   "outputs": [],
   "source": [
    "from sklearn.feature_extraction.text import TfidfVectorizer\n",
    "\n",
    "\n",
    "tfidf_vectorizer = TfidfVectorizer(max_features=100,ngram_range=(1,2))\n",
    "tfidf_matrix = tfidf_vectorizer.fit_transform([' '.join(cleaned_text)])\n",
    "tfidf_df = pd.DataFrame(\n",
    "    tfidf_matrix.toarray(),\n",
    "    columns=tfidf_vectorizer.get_feature_names_out()\n",
    ")\n"
   ]
  },
  {
   "cell_type": "code",
   "execution_count": 13,
   "metadata": {},
   "outputs": [
    {
     "name": "stdout",
     "output_type": "stream",
     "text": [
      "['annuler' 'asteroide' 'asteroide siberie' 'avant' 'avant impact'\n",
      " 'bancaire' 'bancaires' 'beaux' 'beaux livres' 'carte' 'carte bancaire'\n",
      " 'cette' 'cnewsutmmediumreferralutmcontentthumbnails'\n",
      " 'cnewsutmmediumreferralutmcontentthumbnails bbelowarticlethumbnailsunit'\n",
      " 'comme' 'copie' 'departements' 'departements places'\n",
      " 'departementsplacesenvigilancejaunecejeudi' 'donnees' 'etre' 'faits'\n",
      " 'fous' 'fous sport' 'francais' 'francais posent'\n",
      " 'francaistarnaquecalacopiedecbaattentioncacetteescroqueriequiatouchcadenombreuxfrancaais'\n",
      " 'fraude' 'images' 'images impressionnantes' 'impact' 'impact video'\n",
      " 'impressionnantes' 'impressionnantes meteore'\n",
      " 'impressionnantesdumeteoreavantsonimpactvideo'\n",
      " 'impressionnantesdumeteoreavantsonimpactvideo vents' 'iran' 'jaune'\n",
      " 'jaune jeudi' 'jeudi' 'jeudi departementsplacesenvigilancejaunecejeudi'\n",
      " 'largent' 'livres' 'livres offrir' 'marine' 'marine pen' 'meme'\n",
      " 'meme question' 'memequestionouvalargenttonnemarinelepen'\n",
      " 'memequestionouvalargenttonnemarinelepen noel' 'meteore' 'meteore avant'\n",
      " 'mohammadi' 'mohammadi sort' 'motions' 'narges' 'narges mohammadi'\n",
      " 'nargesmohammadisorttemporairementdeprisonpour' 'nobel' 'nobel paix'\n",
      " 'noel' 'noel beaux' 'offrir' 'offrir fous' 'offrirauxfousdesport'\n",
      " 'offrirauxfousdesport asteroide' 'paix' 'paix narges' 'pays' 'places'\n",
      " 'places vigilance' 'plus' 'politique'\n",
      " 'popuptaboolacomfrtemplatecolorboxutmsourcecnews'\n",
      " 'popuptaboolacomfrtemplatecolorboxutmsourcecnews cnewsutmmediumreferralutmcontentthumbnails'\n",
      " 'posent' 'posent tous' 'question largent' 'raisons' 'raisons sante'\n",
      " 'sante' 'savoir' 'savoir plus' 'siberie' 'siberie images' 'skimming'\n",
      " 'sport' 'sport offrirauxfousdesport' 'toulouse'\n",
      " 'utmsourcetbutmmediumcpcutmcampaigngutfdkutmtermcnews' 'vents'\n",
      " 'vents violents' 'video'\n",
      " 'video impressionnantesdumeteoreavantsonimpactvideo' 'vigilance'\n",
      " 'vigilance jaune' 'violents' 'violents voici' 'voici'\n",
      " 'voici departements']\n"
     ]
    }
   ],
   "source": [
    "print(tfidf_vectorizer.get_feature_names_out())"
   ]
  },
  {
   "cell_type": "code",
   "execution_count": 14,
   "metadata": {},
   "outputs": [
    {
     "name": "stdout",
     "output_type": "stream",
     "text": [
      "                 Mot  Fréquence\n",
      "0            annuler   0.129369\n",
      "1          asteroide   0.086246\n",
      "2  asteroide siberie   0.086246\n",
      "3              avant   0.215615\n",
      "4       avant impact   0.086246"
     ]
    },
    {
     "name": "stdout",
     "output_type": "stream",
     "text": [
      "\n"
     ]
    }
   ],
   "source": [
    "# Conversion en DataFrame avec les mots comme lignes et leurs fréquences\n",
    "tfidf_df = pd.DataFrame(tfidf_df.sum(axis=0), columns=['Fréquence']).reset_index()\n",
    "tfidf_df.rename(columns={'index': 'Mot'}, inplace=True)\n",
    "\n",
    "# Vérification des colonnes\n",
    "print(tfidf_df.head())\n"
   ]
  },
  {
   "cell_type": "code",
   "execution_count": 15,
   "metadata": {},
   "outputs": [],
   "source": [
    "\n",
    "stop_words = list(stop_words)\n",
    "# Liste des stop words à exclure\n",
    "stop_words.extend([\n",
    "    'voici', 'vents', 'sport', 'siberie', 'posent', 'offrir', 'noel', \n",
    "    'nobel', 'narges', 'motions', 'mohammadi', 'meteore', 'meme', \n",
    "    'marine', 'livresjaune', 'iran', 'jeudi', 'fous', 'comme', \n",
    "    'cette', 'avant', 'asteroide','jaune','plus','beaux'\n",
    "])\n",
    "\n",
    "# Filtrage des mots pertinents\n",
    "filtered_tfidf_df = tfidf_df[\n",
    "    (tfidf_df['Fréquence'] > 0.05) &  # Fréquence minimale\n",
    "    (tfidf_df['Fréquence'] < 0.5) &  # Fréquence maximale\n",
    "    (tfidf_df['Mot'].str.len().between(4, 15)) &  # Longueur des mots\n",
    "    (~tfidf_df['Mot'].str.contains(r'[^a-zA-Zéèêàùç]', regex=True)) &  # Exclusion des mots avec caractères spéciaux\n",
    "    (~tfidf_df['Mot'].isin(stop_words))  # Exclusion des stopwords\n",
    "]\n"
   ]
  },
  {
   "cell_type": "code",
   "execution_count": 16,
   "metadata": {},
   "outputs": [
    {
     "name": "stdout",
     "output_type": "stream",
     "text": [
      "             Mot  Fréquence\n",
      "0        annuler   0.129369\n",
      "5       bancaire   0.215615\n",
      "6      bancaires   0.107808\n",
      "9          carte   0.301862\n",
      "15         copie   0.086246\n",
      "16  departements   0.107808\n",
      "19       donnees   0.129369\n",
      "20          etre   0.107808\n",
      "21         faits   0.064685\n",
      "24      francais   0.129369\n",
      "27        fraude   0.086246\n",
      "28        images   0.086246\n",
      "30        impact   0.086246\n",
      "41       largent   0.064685\n",
      "42        livres   0.086246\n",
      "66          paix   0.064685\n",
      "68          pays   0.086246\n",
      "69        places   0.107808\n",
      "72     politique   0.064685\n",
      "78       raisons   0.064685\n",
      "80         sante   0.086246\n",
      "81        savoir   0.086246\n",
      "85      skimming   0.107808\n",
      "88      toulouse   0.086246\n",
      "92         video   0.129369\n",
      "94     vigilance   0.107808\n",
      "96      violents   0.086246\n"
     ]
    }
   ],
   "source": [
    "# affichage de la frequence du IF-IDF par colonne\n",
    "pd.set_option(\"display.max_columns\", None)  \n",
    "pd.set_option(\"display.width\", None)       \n",
    "print(filtered_tfidf_df)"
   ]
  },
  {
   "cell_type": "markdown",
   "metadata": {},
   "source": [
    "Après le filtrage par TF-IDF , nous allons compter le nombre d'occurrence de chaque mots\n",
    "des mots importants retenu par colonne "
   ]
  },
  {
   "cell_type": "markdown",
   "metadata": {},
   "source": [
    "Visualisation de la distribution des fréquences des mots "
   ]
  },
  {
   "cell_type": "code",
   "execution_count": 17,
   "metadata": {},
   "outputs": [
    {
     "data": {
      "application/vnd.plotly.v1+json": {
       "config": {
        "plotlyServerURL": "https://plot.ly"
       },
       "data": [
        {
         "alignmentgroup": "True",
         "hovertemplate": "<b>%{hovertext}</b><br><br>Mot=%{x}<br>Fréquence=%{marker.color}<extra></extra>",
         "hovertext": [
          "annuler",
          "bancaire",
          "bancaires",
          "carte",
          "copie",
          "departements",
          "donnees",
          "etre",
          "faits",
          "francais",
          "fraude",
          "images",
          "impact",
          "largent",
          "livres",
          "paix",
          "pays",
          "places",
          "politique",
          "raisons",
          "sante",
          "savoir",
          "skimming",
          "toulouse",
          "video",
          "vigilance",
          "violents"
         ],
         "legendgroup": "",
         "marker": {
          "color": [
           0.12936924547063017,
           0.21561540911771696,
           0.10780770455885848,
           0.30186157276480374,
           0.08624616364708679,
           0.10780770455885848,
           0.12936924547063017,
           0.10780770455885848,
           0.06468462273531508,
           0.12936924547063017,
           0.08624616364708679,
           0.08624616364708679,
           0.08624616364708679,
           0.06468462273531508,
           0.08624616364708679,
           0.06468462273531508,
           0.08624616364708679,
           0.10780770455885848,
           0.06468462273531508,
           0.06468462273531508,
           0.08624616364708679,
           0.08624616364708679,
           0.10780770455885848,
           0.08624616364708679,
           0.12936924547063017,
           0.10780770455885848,
           0.08624616364708679
          ],
          "coloraxis": "coloraxis",
          "pattern": {
           "shape": ""
          }
         },
         "name": "",
         "offsetgroup": "",
         "orientation": "v",
         "showlegend": false,
         "text": [
          0.12936924547063017,
          0.21561540911771696,
          0.10780770455885848,
          0.30186157276480374,
          0.08624616364708679,
          0.10780770455885848,
          0.12936924547063017,
          0.10780770455885848,
          0.06468462273531508,
          0.12936924547063017,
          0.08624616364708679,
          0.08624616364708679,
          0.08624616364708679,
          0.06468462273531508,
          0.08624616364708679,
          0.06468462273531508,
          0.08624616364708679,
          0.10780770455885848,
          0.06468462273531508,
          0.06468462273531508,
          0.08624616364708679,
          0.08624616364708679,
          0.10780770455885848,
          0.08624616364708679,
          0.12936924547063017,
          0.10780770455885848,
          0.08624616364708679
         ],
         "textposition": "outside",
         "type": "bar",
         "x": [
          "annuler",
          "bancaire",
          "bancaires",
          "carte",
          "copie",
          "departements",
          "donnees",
          "etre",
          "faits",
          "francais",
          "fraude",
          "images",
          "impact",
          "largent",
          "livres",
          "paix",
          "pays",
          "places",
          "politique",
          "raisons",
          "sante",
          "savoir",
          "skimming",
          "toulouse",
          "video",
          "vigilance",
          "violents"
         ],
         "xaxis": "x",
         "y": [
          0.12936924547063017,
          0.21561540911771696,
          0.10780770455885848,
          0.30186157276480374,
          0.08624616364708679,
          0.10780770455885848,
          0.12936924547063017,
          0.10780770455885848,
          0.06468462273531508,
          0.12936924547063017,
          0.08624616364708679,
          0.08624616364708679,
          0.08624616364708679,
          0.06468462273531508,
          0.08624616364708679,
          0.06468462273531508,
          0.08624616364708679,
          0.10780770455885848,
          0.06468462273531508,
          0.06468462273531508,
          0.08624616364708679,
          0.08624616364708679,
          0.10780770455885848,
          0.08624616364708679,
          0.12936924547063017,
          0.10780770455885848,
          0.08624616364708679
         ],
         "yaxis": "y"
        }
       ],
       "layout": {
        "barmode": "relative",
        "coloraxis": {
         "colorbar": {
          "title": {
           "text": "Fréquence"
          }
         },
         "colorscale": [
          [
           0,
           "#0d0887"
          ],
          [
           0.1111111111111111,
           "#46039f"
          ],
          [
           0.2222222222222222,
           "#7201a8"
          ],
          [
           0.3333333333333333,
           "#9c179e"
          ],
          [
           0.4444444444444444,
           "#bd3786"
          ],
          [
           0.5555555555555556,
           "#d8576b"
          ],
          [
           0.6666666666666666,
           "#ed7953"
          ],
          [
           0.7777777777777778,
           "#fb9f3a"
          ],
          [
           0.8888888888888888,
           "#fdca26"
          ],
          [
           1,
           "#f0f921"
          ]
         ]
        },
        "legend": {
         "tracegroupgap": 0
        },
        "margin": {
         "b": 120,
         "l": 40,
         "r": 20,
         "t": 40
        },
        "template": {
         "data": {
          "bar": [
           {
            "error_x": {
             "color": "#2a3f5f"
            },
            "error_y": {
             "color": "#2a3f5f"
            },
            "marker": {
             "line": {
              "color": "#E5ECF6",
              "width": 0.5
             },
             "pattern": {
              "fillmode": "overlay",
              "size": 10,
              "solidity": 0.2
             }
            },
            "type": "bar"
           }
          ],
          "barpolar": [
           {
            "marker": {
             "line": {
              "color": "#E5ECF6",
              "width": 0.5
             },
             "pattern": {
              "fillmode": "overlay",
              "size": 10,
              "solidity": 0.2
             }
            },
            "type": "barpolar"
           }
          ],
          "carpet": [
           {
            "aaxis": {
             "endlinecolor": "#2a3f5f",
             "gridcolor": "white",
             "linecolor": "white",
             "minorgridcolor": "white",
             "startlinecolor": "#2a3f5f"
            },
            "baxis": {
             "endlinecolor": "#2a3f5f",
             "gridcolor": "white",
             "linecolor": "white",
             "minorgridcolor": "white",
             "startlinecolor": "#2a3f5f"
            },
            "type": "carpet"
           }
          ],
          "choropleth": [
           {
            "colorbar": {
             "outlinewidth": 0,
             "ticks": ""
            },
            "type": "choropleth"
           }
          ],
          "contour": [
           {
            "colorbar": {
             "outlinewidth": 0,
             "ticks": ""
            },
            "colorscale": [
             [
              0,
              "#0d0887"
             ],
             [
              0.1111111111111111,
              "#46039f"
             ],
             [
              0.2222222222222222,
              "#7201a8"
             ],
             [
              0.3333333333333333,
              "#9c179e"
             ],
             [
              0.4444444444444444,
              "#bd3786"
             ],
             [
              0.5555555555555556,
              "#d8576b"
             ],
             [
              0.6666666666666666,
              "#ed7953"
             ],
             [
              0.7777777777777778,
              "#fb9f3a"
             ],
             [
              0.8888888888888888,
              "#fdca26"
             ],
             [
              1,
              "#f0f921"
             ]
            ],
            "type": "contour"
           }
          ],
          "contourcarpet": [
           {
            "colorbar": {
             "outlinewidth": 0,
             "ticks": ""
            },
            "type": "contourcarpet"
           }
          ],
          "heatmap": [
           {
            "colorbar": {
             "outlinewidth": 0,
             "ticks": ""
            },
            "colorscale": [
             [
              0,
              "#0d0887"
             ],
             [
              0.1111111111111111,
              "#46039f"
             ],
             [
              0.2222222222222222,
              "#7201a8"
             ],
             [
              0.3333333333333333,
              "#9c179e"
             ],
             [
              0.4444444444444444,
              "#bd3786"
             ],
             [
              0.5555555555555556,
              "#d8576b"
             ],
             [
              0.6666666666666666,
              "#ed7953"
             ],
             [
              0.7777777777777778,
              "#fb9f3a"
             ],
             [
              0.8888888888888888,
              "#fdca26"
             ],
             [
              1,
              "#f0f921"
             ]
            ],
            "type": "heatmap"
           }
          ],
          "heatmapgl": [
           {
            "colorbar": {
             "outlinewidth": 0,
             "ticks": ""
            },
            "colorscale": [
             [
              0,
              "#0d0887"
             ],
             [
              0.1111111111111111,
              "#46039f"
             ],
             [
              0.2222222222222222,
              "#7201a8"
             ],
             [
              0.3333333333333333,
              "#9c179e"
             ],
             [
              0.4444444444444444,
              "#bd3786"
             ],
             [
              0.5555555555555556,
              "#d8576b"
             ],
             [
              0.6666666666666666,
              "#ed7953"
             ],
             [
              0.7777777777777778,
              "#fb9f3a"
             ],
             [
              0.8888888888888888,
              "#fdca26"
             ],
             [
              1,
              "#f0f921"
             ]
            ],
            "type": "heatmapgl"
           }
          ],
          "histogram": [
           {
            "marker": {
             "pattern": {
              "fillmode": "overlay",
              "size": 10,
              "solidity": 0.2
             }
            },
            "type": "histogram"
           }
          ],
          "histogram2d": [
           {
            "colorbar": {
             "outlinewidth": 0,
             "ticks": ""
            },
            "colorscale": [
             [
              0,
              "#0d0887"
             ],
             [
              0.1111111111111111,
              "#46039f"
             ],
             [
              0.2222222222222222,
              "#7201a8"
             ],
             [
              0.3333333333333333,
              "#9c179e"
             ],
             [
              0.4444444444444444,
              "#bd3786"
             ],
             [
              0.5555555555555556,
              "#d8576b"
             ],
             [
              0.6666666666666666,
              "#ed7953"
             ],
             [
              0.7777777777777778,
              "#fb9f3a"
             ],
             [
              0.8888888888888888,
              "#fdca26"
             ],
             [
              1,
              "#f0f921"
             ]
            ],
            "type": "histogram2d"
           }
          ],
          "histogram2dcontour": [
           {
            "colorbar": {
             "outlinewidth": 0,
             "ticks": ""
            },
            "colorscale": [
             [
              0,
              "#0d0887"
             ],
             [
              0.1111111111111111,
              "#46039f"
             ],
             [
              0.2222222222222222,
              "#7201a8"
             ],
             [
              0.3333333333333333,
              "#9c179e"
             ],
             [
              0.4444444444444444,
              "#bd3786"
             ],
             [
              0.5555555555555556,
              "#d8576b"
             ],
             [
              0.6666666666666666,
              "#ed7953"
             ],
             [
              0.7777777777777778,
              "#fb9f3a"
             ],
             [
              0.8888888888888888,
              "#fdca26"
             ],
             [
              1,
              "#f0f921"
             ]
            ],
            "type": "histogram2dcontour"
           }
          ],
          "mesh3d": [
           {
            "colorbar": {
             "outlinewidth": 0,
             "ticks": ""
            },
            "type": "mesh3d"
           }
          ],
          "parcoords": [
           {
            "line": {
             "colorbar": {
              "outlinewidth": 0,
              "ticks": ""
             }
            },
            "type": "parcoords"
           }
          ],
          "pie": [
           {
            "automargin": true,
            "type": "pie"
           }
          ],
          "scatter": [
           {
            "fillpattern": {
             "fillmode": "overlay",
             "size": 10,
             "solidity": 0.2
            },
            "type": "scatter"
           }
          ],
          "scatter3d": [
           {
            "line": {
             "colorbar": {
              "outlinewidth": 0,
              "ticks": ""
             }
            },
            "marker": {
             "colorbar": {
              "outlinewidth": 0,
              "ticks": ""
             }
            },
            "type": "scatter3d"
           }
          ],
          "scattercarpet": [
           {
            "marker": {
             "colorbar": {
              "outlinewidth": 0,
              "ticks": ""
             }
            },
            "type": "scattercarpet"
           }
          ],
          "scattergeo": [
           {
            "marker": {
             "colorbar": {
              "outlinewidth": 0,
              "ticks": ""
             }
            },
            "type": "scattergeo"
           }
          ],
          "scattergl": [
           {
            "marker": {
             "colorbar": {
              "outlinewidth": 0,
              "ticks": ""
             }
            },
            "type": "scattergl"
           }
          ],
          "scattermapbox": [
           {
            "marker": {
             "colorbar": {
              "outlinewidth": 0,
              "ticks": ""
             }
            },
            "type": "scattermapbox"
           }
          ],
          "scatterpolar": [
           {
            "marker": {
             "colorbar": {
              "outlinewidth": 0,
              "ticks": ""
             }
            },
            "type": "scatterpolar"
           }
          ],
          "scatterpolargl": [
           {
            "marker": {
             "colorbar": {
              "outlinewidth": 0,
              "ticks": ""
             }
            },
            "type": "scatterpolargl"
           }
          ],
          "scatterternary": [
           {
            "marker": {
             "colorbar": {
              "outlinewidth": 0,
              "ticks": ""
             }
            },
            "type": "scatterternary"
           }
          ],
          "surface": [
           {
            "colorbar": {
             "outlinewidth": 0,
             "ticks": ""
            },
            "colorscale": [
             [
              0,
              "#0d0887"
             ],
             [
              0.1111111111111111,
              "#46039f"
             ],
             [
              0.2222222222222222,
              "#7201a8"
             ],
             [
              0.3333333333333333,
              "#9c179e"
             ],
             [
              0.4444444444444444,
              "#bd3786"
             ],
             [
              0.5555555555555556,
              "#d8576b"
             ],
             [
              0.6666666666666666,
              "#ed7953"
             ],
             [
              0.7777777777777778,
              "#fb9f3a"
             ],
             [
              0.8888888888888888,
              "#fdca26"
             ],
             [
              1,
              "#f0f921"
             ]
            ],
            "type": "surface"
           }
          ],
          "table": [
           {
            "cells": {
             "fill": {
              "color": "#EBF0F8"
             },
             "line": {
              "color": "white"
             }
            },
            "header": {
             "fill": {
              "color": "#C8D4E3"
             },
             "line": {
              "color": "white"
             }
            },
            "type": "table"
           }
          ]
         },
         "layout": {
          "annotationdefaults": {
           "arrowcolor": "#2a3f5f",
           "arrowhead": 0,
           "arrowwidth": 1
          },
          "autotypenumbers": "strict",
          "coloraxis": {
           "colorbar": {
            "outlinewidth": 0,
            "ticks": ""
           }
          },
          "colorscale": {
           "diverging": [
            [
             0,
             "#8e0152"
            ],
            [
             0.1,
             "#c51b7d"
            ],
            [
             0.2,
             "#de77ae"
            ],
            [
             0.3,
             "#f1b6da"
            ],
            [
             0.4,
             "#fde0ef"
            ],
            [
             0.5,
             "#f7f7f7"
            ],
            [
             0.6,
             "#e6f5d0"
            ],
            [
             0.7,
             "#b8e186"
            ],
            [
             0.8,
             "#7fbc41"
            ],
            [
             0.9,
             "#4d9221"
            ],
            [
             1,
             "#276419"
            ]
           ],
           "sequential": [
            [
             0,
             "#0d0887"
            ],
            [
             0.1111111111111111,
             "#46039f"
            ],
            [
             0.2222222222222222,
             "#7201a8"
            ],
            [
             0.3333333333333333,
             "#9c179e"
            ],
            [
             0.4444444444444444,
             "#bd3786"
            ],
            [
             0.5555555555555556,
             "#d8576b"
            ],
            [
             0.6666666666666666,
             "#ed7953"
            ],
            [
             0.7777777777777778,
             "#fb9f3a"
            ],
            [
             0.8888888888888888,
             "#fdca26"
            ],
            [
             1,
             "#f0f921"
            ]
           ],
           "sequentialminus": [
            [
             0,
             "#0d0887"
            ],
            [
             0.1111111111111111,
             "#46039f"
            ],
            [
             0.2222222222222222,
             "#7201a8"
            ],
            [
             0.3333333333333333,
             "#9c179e"
            ],
            [
             0.4444444444444444,
             "#bd3786"
            ],
            [
             0.5555555555555556,
             "#d8576b"
            ],
            [
             0.6666666666666666,
             "#ed7953"
            ],
            [
             0.7777777777777778,
             "#fb9f3a"
            ],
            [
             0.8888888888888888,
             "#fdca26"
            ],
            [
             1,
             "#f0f921"
            ]
           ]
          },
          "colorway": [
           "#636efa",
           "#EF553B",
           "#00cc96",
           "#ab63fa",
           "#FFA15A",
           "#19d3f3",
           "#FF6692",
           "#B6E880",
           "#FF97FF",
           "#FECB52"
          ],
          "font": {
           "color": "#2a3f5f"
          },
          "geo": {
           "bgcolor": "white",
           "lakecolor": "white",
           "landcolor": "#E5ECF6",
           "showlakes": true,
           "showland": true,
           "subunitcolor": "white"
          },
          "hoverlabel": {
           "align": "left"
          },
          "hovermode": "closest",
          "mapbox": {
           "style": "light"
          },
          "paper_bgcolor": "white",
          "plot_bgcolor": "#E5ECF6",
          "polar": {
           "angularaxis": {
            "gridcolor": "white",
            "linecolor": "white",
            "ticks": ""
           },
           "bgcolor": "#E5ECF6",
           "radialaxis": {
            "gridcolor": "white",
            "linecolor": "white",
            "ticks": ""
           }
          },
          "scene": {
           "xaxis": {
            "backgroundcolor": "#E5ECF6",
            "gridcolor": "white",
            "gridwidth": 2,
            "linecolor": "white",
            "showbackground": true,
            "ticks": "",
            "zerolinecolor": "white"
           },
           "yaxis": {
            "backgroundcolor": "#E5ECF6",
            "gridcolor": "white",
            "gridwidth": 2,
            "linecolor": "white",
            "showbackground": true,
            "ticks": "",
            "zerolinecolor": "white"
           },
           "zaxis": {
            "backgroundcolor": "#E5ECF6",
            "gridcolor": "white",
            "gridwidth": 2,
            "linecolor": "white",
            "showbackground": true,
            "ticks": "",
            "zerolinecolor": "white"
           }
          },
          "shapedefaults": {
           "line": {
            "color": "#2a3f5f"
           }
          },
          "ternary": {
           "aaxis": {
            "gridcolor": "white",
            "linecolor": "white",
            "ticks": ""
           },
           "baxis": {
            "gridcolor": "white",
            "linecolor": "white",
            "ticks": ""
           },
           "bgcolor": "#E5ECF6",
           "caxis": {
            "gridcolor": "white",
            "linecolor": "white",
            "ticks": ""
           }
          },
          "title": {
           "x": 0.05
          },
          "xaxis": {
           "automargin": true,
           "gridcolor": "white",
           "linecolor": "white",
           "ticks": "",
           "title": {
            "standoff": 15
           },
           "zerolinecolor": "white",
           "zerolinewidth": 2
          },
          "yaxis": {
           "automargin": true,
           "gridcolor": "white",
           "linecolor": "white",
           "ticks": "",
           "title": {
            "standoff": 15
           },
           "zerolinecolor": "white",
           "zerolinewidth": 2
          }
         }
        },
        "title": {
         "text": "Fréquence des mots pertinents (TF-IDF)"
        },
        "xaxis": {
         "anchor": "y",
         "domain": [
          0,
          1
         ],
         "tickangle": 45,
         "title": {
          "text": "Mots"
         }
        },
        "yaxis": {
         "anchor": "x",
         "domain": [
          0,
          1
         ],
         "title": {
          "text": "Fréquence"
         }
        }
       }
      }
     },
     "metadata": {},
     "output_type": "display_data"
    }
   ],
   "source": [
    "\n",
    "import plotly.express as px\n",
    "\n",
    "# Créer un graphique avec les mots pertinents\n",
    "fig = px.bar(filtered_tfidf_df, x='Mot', y='Fréquence', title=\"Fréquence des mots pertinents (TF-IDF)\",\n",
    "             text='Fréquence', color='Fréquence', hover_name='Mot')\n",
    "\n",
    "# Personnaliser le graphique\n",
    "fig.update_traces(textposition='outside')\n",
    "fig.update_layout(\n",
    "    xaxis_title='Mots', yaxis_title='Fréquence',\n",
    "    xaxis=dict(tickangle=45),\n",
    "    margin=dict(l=40, r=20, t=40, b=120)\n",
    ")\n",
    "\n",
    "# Afficher le graphique\n",
    "fig.show()\n",
    "\n"
   ]
  },
  {
   "cell_type": "code",
   "execution_count": 18,
   "metadata": {},
   "outputs": [
    {
     "data": {
      "application/vnd.plotly.v1+json": {
       "config": {
        "plotlyServerURL": "https://plot.ly"
       },
       "data": [
        {
         "hovertemplate": "x: %{x}<br>y: %{y}<br>color: [%{z[0]}, %{z[1]}, %{z[2]}]<extra></extra>",
         "name": "0",
         "source": "data:image/png;base64,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",
         "type": "image",
         "xaxis": "x",
         "yaxis": "y"
        }
       ],
       "layout": {
        "coloraxis": {
         "showscale": false
        },
        "margin": {
         "b": 0,
         "l": 0,
         "r": 0,
         "t": 0
        },
        "template": {
         "data": {
          "bar": [
           {
            "error_x": {
             "color": "#2a3f5f"
            },
            "error_y": {
             "color": "#2a3f5f"
            },
            "marker": {
             "line": {
              "color": "#E5ECF6",
              "width": 0.5
             },
             "pattern": {
              "fillmode": "overlay",
              "size": 10,
              "solidity": 0.2
             }
            },
            "type": "bar"
           }
          ],
          "barpolar": [
           {
            "marker": {
             "line": {
              "color": "#E5ECF6",
              "width": 0.5
             },
             "pattern": {
              "fillmode": "overlay",
              "size": 10,
              "solidity": 0.2
             }
            },
            "type": "barpolar"
           }
          ],
          "carpet": [
           {
            "aaxis": {
             "endlinecolor": "#2a3f5f",
             "gridcolor": "white",
             "linecolor": "white",
             "minorgridcolor": "white",
             "startlinecolor": "#2a3f5f"
            },
            "baxis": {
             "endlinecolor": "#2a3f5f",
             "gridcolor": "white",
             "linecolor": "white",
             "minorgridcolor": "white",
             "startlinecolor": "#2a3f5f"
            },
            "type": "carpet"
           }
          ],
          "choropleth": [
           {
            "colorbar": {
             "outlinewidth": 0,
             "ticks": ""
            },
            "type": "choropleth"
           }
          ],
          "contour": [
           {
            "colorbar": {
             "outlinewidth": 0,
             "ticks": ""
            },
            "colorscale": [
             [
              0,
              "#0d0887"
             ],
             [
              0.1111111111111111,
              "#46039f"
             ],
             [
              0.2222222222222222,
              "#7201a8"
             ],
             [
              0.3333333333333333,
              "#9c179e"
             ],
             [
              0.4444444444444444,
              "#bd3786"
             ],
             [
              0.5555555555555556,
              "#d8576b"
             ],
             [
              0.6666666666666666,
              "#ed7953"
             ],
             [
              0.7777777777777778,
              "#fb9f3a"
             ],
             [
              0.8888888888888888,
              "#fdca26"
             ],
             [
              1,
              "#f0f921"
             ]
            ],
            "type": "contour"
           }
          ],
          "contourcarpet": [
           {
            "colorbar": {
             "outlinewidth": 0,
             "ticks": ""
            },
            "type": "contourcarpet"
           }
          ],
          "heatmap": [
           {
            "colorbar": {
             "outlinewidth": 0,
             "ticks": ""
            },
            "colorscale": [
             [
              0,
              "#0d0887"
             ],
             [
              0.1111111111111111,
              "#46039f"
             ],
             [
              0.2222222222222222,
              "#7201a8"
             ],
             [
              0.3333333333333333,
              "#9c179e"
             ],
             [
              0.4444444444444444,
              "#bd3786"
             ],
             [
              0.5555555555555556,
              "#d8576b"
             ],
             [
              0.6666666666666666,
              "#ed7953"
             ],
             [
              0.7777777777777778,
              "#fb9f3a"
             ],
             [
              0.8888888888888888,
              "#fdca26"
             ],
             [
              1,
              "#f0f921"
             ]
            ],
            "type": "heatmap"
           }
          ],
          "heatmapgl": [
           {
            "colorbar": {
             "outlinewidth": 0,
             "ticks": ""
            },
            "colorscale": [
             [
              0,
              "#0d0887"
             ],
             [
              0.1111111111111111,
              "#46039f"
             ],
             [
              0.2222222222222222,
              "#7201a8"
             ],
             [
              0.3333333333333333,
              "#9c179e"
             ],
             [
              0.4444444444444444,
              "#bd3786"
             ],
             [
              0.5555555555555556,
              "#d8576b"
             ],
             [
              0.6666666666666666,
              "#ed7953"
             ],
             [
              0.7777777777777778,
              "#fb9f3a"
             ],
             [
              0.8888888888888888,
              "#fdca26"
             ],
             [
              1,
              "#f0f921"
             ]
            ],
            "type": "heatmapgl"
           }
          ],
          "histogram": [
           {
            "marker": {
             "pattern": {
              "fillmode": "overlay",
              "size": 10,
              "solidity": 0.2
             }
            },
            "type": "histogram"
           }
          ],
          "histogram2d": [
           {
            "colorbar": {
             "outlinewidth": 0,
             "ticks": ""
            },
            "colorscale": [
             [
              0,
              "#0d0887"
             ],
             [
              0.1111111111111111,
              "#46039f"
             ],
             [
              0.2222222222222222,
              "#7201a8"
             ],
             [
              0.3333333333333333,
              "#9c179e"
             ],
             [
              0.4444444444444444,
              "#bd3786"
             ],
             [
              0.5555555555555556,
              "#d8576b"
             ],
             [
              0.6666666666666666,
              "#ed7953"
             ],
             [
              0.7777777777777778,
              "#fb9f3a"
             ],
             [
              0.8888888888888888,
              "#fdca26"
             ],
             [
              1,
              "#f0f921"
             ]
            ],
            "type": "histogram2d"
           }
          ],
          "histogram2dcontour": [
           {
            "colorbar": {
             "outlinewidth": 0,
             "ticks": ""
            },
            "colorscale": [
             [
              0,
              "#0d0887"
             ],
             [
              0.1111111111111111,
              "#46039f"
             ],
             [
              0.2222222222222222,
              "#7201a8"
             ],
             [
              0.3333333333333333,
              "#9c179e"
             ],
             [
              0.4444444444444444,
              "#bd3786"
             ],
             [
              0.5555555555555556,
              "#d8576b"
             ],
             [
              0.6666666666666666,
              "#ed7953"
             ],
             [
              0.7777777777777778,
              "#fb9f3a"
             ],
             [
              0.8888888888888888,
              "#fdca26"
             ],
             [
              1,
              "#f0f921"
             ]
            ],
            "type": "histogram2dcontour"
           }
          ],
          "mesh3d": [
           {
            "colorbar": {
             "outlinewidth": 0,
             "ticks": ""
            },
            "type": "mesh3d"
           }
          ],
          "parcoords": [
           {
            "line": {
             "colorbar": {
              "outlinewidth": 0,
              "ticks": ""
             }
            },
            "type": "parcoords"
           }
          ],
          "pie": [
           {
            "automargin": true,
            "type": "pie"
           }
          ],
          "scatter": [
           {
            "fillpattern": {
             "fillmode": "overlay",
             "size": 10,
             "solidity": 0.2
            },
            "type": "scatter"
           }
          ],
          "scatter3d": [
           {
            "line": {
             "colorbar": {
              "outlinewidth": 0,
              "ticks": ""
             }
            },
            "marker": {
             "colorbar": {
              "outlinewidth": 0,
              "ticks": ""
             }
            },
            "type": "scatter3d"
           }
          ],
          "scattercarpet": [
           {
            "marker": {
             "colorbar": {
              "outlinewidth": 0,
              "ticks": ""
             }
            },
            "type": "scattercarpet"
           }
          ],
          "scattergeo": [
           {
            "marker": {
             "colorbar": {
              "outlinewidth": 0,
              "ticks": ""
             }
            },
            "type": "scattergeo"
           }
          ],
          "scattergl": [
           {
            "marker": {
             "colorbar": {
              "outlinewidth": 0,
              "ticks": ""
             }
            },
            "type": "scattergl"
           }
          ],
          "scattermapbox": [
           {
            "marker": {
             "colorbar": {
              "outlinewidth": 0,
              "ticks": ""
             }
            },
            "type": "scattermapbox"
           }
          ],
          "scatterpolar": [
           {
            "marker": {
             "colorbar": {
              "outlinewidth": 0,
              "ticks": ""
             }
            },
            "type": "scatterpolar"
           }
          ],
          "scatterpolargl": [
           {
            "marker": {
             "colorbar": {
              "outlinewidth": 0,
              "ticks": ""
             }
            },
            "type": "scatterpolargl"
           }
          ],
          "scatterternary": [
           {
            "marker": {
             "colorbar": {
              "outlinewidth": 0,
              "ticks": ""
             }
            },
            "type": "scatterternary"
           }
          ],
          "surface": [
           {
            "colorbar": {
             "outlinewidth": 0,
             "ticks": ""
            },
            "colorscale": [
             [
              0,
              "#0d0887"
             ],
             [
              0.1111111111111111,
              "#46039f"
             ],
             [
              0.2222222222222222,
              "#7201a8"
             ],
             [
              0.3333333333333333,
              "#9c179e"
             ],
             [
              0.4444444444444444,
              "#bd3786"
             ],
             [
              0.5555555555555556,
              "#d8576b"
             ],
             [
              0.6666666666666666,
              "#ed7953"
             ],
             [
              0.7777777777777778,
              "#fb9f3a"
             ],
             [
              0.8888888888888888,
              "#fdca26"
             ],
             [
              1,
              "#f0f921"
             ]
            ],
            "type": "surface"
           }
          ],
          "table": [
           {
            "cells": {
             "fill": {
              "color": "#EBF0F8"
             },
             "line": {
              "color": "white"
             }
            },
            "header": {
             "fill": {
              "color": "#C8D4E3"
             },
             "line": {
              "color": "white"
             }
            },
            "type": "table"
           }
          ]
         },
         "layout": {
          "annotationdefaults": {
           "arrowcolor": "#2a3f5f",
           "arrowhead": 0,
           "arrowwidth": 1
          },
          "autotypenumbers": "strict",
          "coloraxis": {
           "colorbar": {
            "outlinewidth": 0,
            "ticks": ""
           }
          },
          "colorscale": {
           "diverging": [
            [
             0,
             "#8e0152"
            ],
            [
             0.1,
             "#c51b7d"
            ],
            [
             0.2,
             "#de77ae"
            ],
            [
             0.3,
             "#f1b6da"
            ],
            [
             0.4,
             "#fde0ef"
            ],
            [
             0.5,
             "#f7f7f7"
            ],
            [
             0.6,
             "#e6f5d0"
            ],
            [
             0.7,
             "#b8e186"
            ],
            [
             0.8,
             "#7fbc41"
            ],
            [
             0.9,
             "#4d9221"
            ],
            [
             1,
             "#276419"
            ]
           ],
           "sequential": [
            [
             0,
             "#0d0887"
            ],
            [
             0.1111111111111111,
             "#46039f"
            ],
            [
             0.2222222222222222,
             "#7201a8"
            ],
            [
             0.3333333333333333,
             "#9c179e"
            ],
            [
             0.4444444444444444,
             "#bd3786"
            ],
            [
             0.5555555555555556,
             "#d8576b"
            ],
            [
             0.6666666666666666,
             "#ed7953"
            ],
            [
             0.7777777777777778,
             "#fb9f3a"
            ],
            [
             0.8888888888888888,
             "#fdca26"
            ],
            [
             1,
             "#f0f921"
            ]
           ],
           "sequentialminus": [
            [
             0,
             "#0d0887"
            ],
            [
             0.1111111111111111,
             "#46039f"
            ],
            [
             0.2222222222222222,
             "#7201a8"
            ],
            [
             0.3333333333333333,
             "#9c179e"
            ],
            [
             0.4444444444444444,
             "#bd3786"
            ],
            [
             0.5555555555555556,
             "#d8576b"
            ],
            [
             0.6666666666666666,
             "#ed7953"
            ],
            [
             0.7777777777777778,
             "#fb9f3a"
            ],
            [
             0.8888888888888888,
             "#fdca26"
            ],
            [
             1,
             "#f0f921"
            ]
           ]
          },
          "colorway": [
           "#636efa",
           "#EF553B",
           "#00cc96",
           "#ab63fa",
           "#FFA15A",
           "#19d3f3",
           "#FF6692",
           "#B6E880",
           "#FF97FF",
           "#FECB52"
          ],
          "font": {
           "color": "#2a3f5f"
          },
          "geo": {
           "bgcolor": "white",
           "lakecolor": "white",
           "landcolor": "#E5ECF6",
           "showlakes": true,
           "showland": true,
           "subunitcolor": "white"
          },
          "hoverlabel": {
           "align": "left"
          },
          "hovermode": "closest",
          "mapbox": {
           "style": "light"
          },
          "paper_bgcolor": "white",
          "plot_bgcolor": "#E5ECF6",
          "polar": {
           "angularaxis": {
            "gridcolor": "white",
            "linecolor": "white",
            "ticks": ""
           },
           "bgcolor": "#E5ECF6",
           "radialaxis": {
            "gridcolor": "white",
            "linecolor": "white",
            "ticks": ""
           }
          },
          "scene": {
           "xaxis": {
            "backgroundcolor": "#E5ECF6",
            "gridcolor": "white",
            "gridwidth": 2,
            "linecolor": "white",
            "showbackground": true,
            "ticks": "",
            "zerolinecolor": "white"
           },
           "yaxis": {
            "backgroundcolor": "#E5ECF6",
            "gridcolor": "white",
            "gridwidth": 2,
            "linecolor": "white",
            "showbackground": true,
            "ticks": "",
            "zerolinecolor": "white"
           },
           "zaxis": {
            "backgroundcolor": "#E5ECF6",
            "gridcolor": "white",
            "gridwidth": 2,
            "linecolor": "white",
            "showbackground": true,
            "ticks": "",
            "zerolinecolor": "white"
           }
          },
          "shapedefaults": {
           "line": {
            "color": "#2a3f5f"
           }
          },
          "ternary": {
           "aaxis": {
            "gridcolor": "white",
            "linecolor": "white",
            "ticks": ""
           },
           "baxis": {
            "gridcolor": "white",
            "linecolor": "white",
            "ticks": ""
           },
           "bgcolor": "#E5ECF6",
           "caxis": {
            "gridcolor": "white",
            "linecolor": "white",
            "ticks": ""
           }
          },
          "title": {
           "x": 0.05
          },
          "xaxis": {
           "automargin": true,
           "gridcolor": "white",
           "linecolor": "white",
           "ticks": "",
           "title": {
            "standoff": 15
           },
           "zerolinecolor": "white",
           "zerolinewidth": 2
          },
          "yaxis": {
           "automargin": true,
           "gridcolor": "white",
           "linecolor": "white",
           "ticks": "",
           "title": {
            "standoff": 15
           },
           "zerolinecolor": "white",
           "zerolinewidth": 2
          }
         }
        },
        "xaxis": {
         "anchor": "y",
         "domain": [
          0,
          1
         ],
         "showticklabels": false
        },
        "yaxis": {
         "anchor": "x",
         "domain": [
          0,
          1
         ],
         "showticklabels": false
        }
       }
      }
     },
     "metadata": {},
     "output_type": "display_data"
    }
   ],
   "source": [
    "from collections import defaultdict\n",
    "from wordcloud import WordCloud\n",
    "import plotly.express as px\n",
    "import pandas as pd\n",
    "\n",
    "\n",
    "# Génération du WordCloud avec les mots filtrés\n",
    "word_weights = dict(zip(filtered_tfidf_df['Mot'], filtered_tfidf_df['Fréquence']))\n",
    "\n",
    "wordcloud = WordCloud(\n",
    "    width=800,\n",
    "    height=400,\n",
    "    background_color='white',\n",
    "    colormap='viridis'\n",
    ").generate_from_frequencies(word_weights)\n",
    "\n",
    "# Conversion en image pour affichage avec Plotly\n",
    "wordcloud_image = wordcloud.to_array()\n",
    "\n",
    "# Affichage avec Plotly\n",
    "fig = px.imshow(\n",
    "    wordcloud_image,\n",
    "    \n",
    "    color_continuous_scale=\"viridis\"\n",
    ")\n",
    "# Suppression des marges et des bordures blanches\n",
    "fig.update_layout(\n",
    "    margin=dict(l=0, r=0, t=0, b=0),  # Suppression des marges\n",
    "    coloraxis_showscale=False  # Suppression de l'échelle des couleurs si non nécessaire\n",
    ")\n",
    "\n",
    "\n",
    "fig.update_xaxes(showticklabels=False)\n",
    "fig.update_yaxes(showticklabels=False)\n",
    "fig.show()\n"
   ]
  },
  {
   "cell_type": "markdown",
   "metadata": {},
   "source": [
    "\n",
    "analyse du resulat et recommandation\n",
    "\n",
    "Mon analyse\n",
    "\n",
    "\n",
    "Les résultats de mon WordCloud mettent en évidence les mots les plus significatifs en fonction de leur pondération (TF-IDF). Ils révèlent une forte concentration sur les problématiques de fraude bancaire, avec des thématiques majeures telles que le \"skimming\", une technique de fraude ciblant les données bancaires, ainsi que des notions comme \"vigilance\" et les \"impacts\" sur le pays.\n",
    "\n",
    "La présence de termes tels que \"vidéo\", \"copie\" et \"impressionnantes\" suggère une orientation vers des supports visuels pour sensibiliser les utilisateurs. Ces éléments pourraient indiquer que les campagnes de prévention axées sur des contenus visuels percutants sont particulièrement adaptées pour informer le public sur les risques et les méthodes liées aux fraudes bancaires.\n",
    "\n",
    "\n",
    "Ma recommandation\n",
    "\n",
    "- Mise en place de campagnes de prévention renforcées, appuyées par des supports vidéo éducatifs, afin d’expliquer les risques liés aux fraudes et de sensibiliser le public aux précautions à adopter. Ces campagnes pourraient être diffusées sur des plateformes clés telles que Facebook, Twitter et Instagram, pour toucher un large public de manière efficace et engageante.\n",
    "\n",
    "\n",
    "- Identification et renforcement des mesures  de  sécurité sur les zones les plus touchées par la fraude "
   ]
  },
  {
   "cell_type": "markdown",
   "metadata": {},
   "source": []
  },
  {
   "cell_type": "markdown",
   "metadata": {},
   "source": [
    "text_mining article La dangereuse dynamique des soldes des cartes de crédit aux États-Unis"
   ]
  },
  {
   "cell_type": "markdown",
   "metadata": {},
   "source": [
    "reation WordCould avec Article de Robin \n",
    "\n",
    "https://www.lafinancepourtous.com/2024/09/12/la-dangereuse-dynamique-des-soldes-des-cartes-de-credit-aux-etats-unis/\n"
   ]
  },
  {
   "cell_type": "code",
   "execution_count": 19,
   "metadata": {},
   "outputs": [
    {
     "name": "stdout",
     "output_type": "stream",
     "text": [
      "Texte extrait avec succès.\n"
     ]
    }
   ],
   "source": [
    "from bs4 import BeautifulSoup\n",
    "# Chemin du fichier html \n",
    "\n",
    "file_path1= \"articles/La dangereuse dynamique des soldes des cartes de crédit aux États-Unis - La finance pour tous.html\"\n",
    "# Lecture du fichier texte\n",
    "with open(file_path1, \"r\", encoding=\"utf-8\") as file:\n",
    "    html_content= file.read()\n",
    "\n",
    "# Extraction du texte avec BeautifulSoup\n",
    "soup = BeautifulSoup(html_content, \"html.parser\")\n",
    "article_text1 = soup.get_text()\n",
    "\n",
    "print(\"Texte extrait avec succès.\")"
   ]
  },
  {
   "cell_type": "markdown",
   "metadata": {},
   "source": [
    "Exploration de nos données extrait"
   ]
  },
  {
   "cell_type": "code",
   "execution_count": 20,
   "metadata": {},
   "outputs": [
    {
     "data": {
      "text/plain": [
       "15141"
      ]
     },
     "execution_count": 20,
     "metadata": {},
     "output_type": "execute_result"
    }
   ],
   "source": [
    "len(article_text1)"
   ]
  },
  {
   "cell_type": "code",
   "execution_count": 21,
   "metadata": {},
   "outputs": [
    {
     "data": {
      "text/plain": [
       "['La',\n",
       " 'dangereuse',\n",
       " 'dynamique',\n",
       " 'des',\n",
       " 'soldes',\n",
       " 'des',\n",
       " 'cartes',\n",
       " 'de',\n",
       " 'crédit',\n",
       " 'aux',\n",
       " 'États-Unis',\n",
       " '-',\n",
       " 'La',\n",
       " 'finance',\n",
       " 'pour',\n",
       " 'tous',\n",
       " 'Aller',\n",
       " 'au',\n",
       " 'menu',\n",
       " 'Aller',\n",
       " 'au',\n",
       " 'contenu',\n",
       " 'Aller',\n",
       " 'à',\n",
       " 'la',\n",
       " 'recherche',\n",
       " 'Accéder',\n",
       " 'à',\n",
       " 'la',\n",
       " 'navigation',\n",
       " 'La',\n",
       " 'finance',\n",
       " 'pour',\n",
       " 'tous',\n",
       " 'Accéder',\n",
       " 'à',\n",
       " 'la',\n",
       " 'recherche',\n",
       " 'Pratique',\n",
       " 'Décryptages',\n",
       " 'Enseignants',\n",
       " 'Juniors',\n",
       " 'Boutique',\n",
       " 'Accueil',\n",
       " 'Actualités',\n",
       " 'Rechercher',\n",
       " 'Rechercher',\n",
       " 'La',\n",
       " 'finance',\n",
       " 'pour',\n",
       " 'tous',\n",
       " 'sur',\n",
       " 'facebook',\n",
       " 'La',\n",
       " 'finance',\n",
       " 'pour',\n",
       " 'tous',\n",
       " 'sur',\n",
       " 'twitter',\n",
       " 'La',\n",
       " 'finance',\n",
       " 'pour',\n",
       " 'tous',\n",
       " 'sur',\n",
       " 'linkedin',\n",
       " 'La',\n",
       " 'finance',\n",
       " 'pour',\n",
       " 'tous',\n",
       " 'sur',\n",
       " 'instagram',\n",
       " 'La',\n",
       " 'finance',\n",
       " 'pour',\n",
       " 'tous',\n",
       " 'sur',\n",
       " 'youtube',\n",
       " 'La',\n",
       " 'finance',\n",
       " 'pour',\n",
       " 'tous',\n",
       " 'sur',\n",
       " 'tiktok',\n",
       " 'La',\n",
       " 'finance',\n",
       " 'pour',\n",
       " 'tous',\n",
       " '-',\n",
       " 'Le',\n",
       " 'site',\n",
       " 'pédagogique',\n",
       " 'sur',\n",
       " \"l'argent\",\n",
       " 'et',\n",
       " 'la',\n",
       " 'finance',\n",
       " 'La',\n",
       " 'finance',\n",
       " 'pour',\n",
       " 'tous',\n",
       " 'est',\n",
       " 'une',\n",
       " 'association',\n",
       " 'd’intérêt',\n",
       " 'général,',\n",
       " 'créée',\n",
       " 'pour']"
      ]
     },
     "execution_count": 21,
     "metadata": {},
     "output_type": "execute_result"
    }
   ],
   "source": [
    "article_text1[:1000].split()"
   ]
  },
  {
   "cell_type": "code",
   "execution_count": 22,
   "metadata": {},
   "outputs": [
    {
     "data": {
      "text/plain": [
       "str"
      ]
     },
     "execution_count": 22,
     "metadata": {},
     "output_type": "execute_result"
    }
   ],
   "source": [
    "# verifions que le contenu de nos données extrait est du type string\n",
    "type(article_text1)"
   ]
  },
  {
   "cell_type": "markdown",
   "metadata": {},
   "source": [
    "2.Prétraitement du texte\n",
    "Nettoyage du texte pour supprimer les caractères inutiles, suppression des accents et des stopwords\n"
   ]
  },
  {
   "cell_type": "code",
   "execution_count": 23,
   "metadata": {},
   "outputs": [
    {
     "name": "stderr",
     "output_type": "stream",
     "text": [
      "[nltk_data] Downloading package stopwords to\n",
      "[nltk_data]     C:\\Users\\fanti\\AppData\\Roaming\\nltk_data...\n",
      "[nltk_data]   Package stopwords is already up-to-date!\n"
     ]
    }
   ],
   "source": [
    "nltk.download('stopwords') # téléchargement du package depuis la bibliothèque NLTK(Natural language Toolkit)\n",
    "stop_words1 = set(stopwords.words('french'))  #  je charge la ligne des  stopwords pour la langue française"
   ]
  },
  {
   "cell_type": "code",
   "execution_count": 24,
   "metadata": {},
   "outputs": [
    {
     "name": "stdout",
     "output_type": "stream",
     "text": [
      "{'par', 'aura', 'me', 'nos', 'ta', 'aurai', 'eue', 'son', 'ne', 'vous', 'avaient', 'seras', 'le', 'fûtes', 'eux', 'un', 'd', 'notre', 't', 'seront', 'soit', 'on', 'fût', 'avais', 'du', 'des', 'ma', 's', 'fûmes', 'fut', 'était', 'sommes', 'vos', 'seriez', 'aurais', 'ayez', 'lui', 'étantes', 'auras', 'sera', 'fussions', 'ton', 'serons', 'eussent', 'une', 'étée', 'ayantes', 'avions', 'eu', 'aurons', 'aurez', 'ils', 'eusse', 'ont', 'ai', 'même', 'serai', 'm', 'n', 'y', 'soyez', 'nous', 'étés', 'sont', 'eût', 'ayante', 'sur', 'aux', 'tes', 'fusse', 'étions', 'fussiez', 'fus', 'il', 'avec', 'qui', 'ses', 'serez', 'eussions', 'aies', 'étées', 'auraient', 'les', 'ces', 'j', 'eussiez', 'ayons', 'qu', 'étant', 'et', 'suis', 'aviez', 'auriez', 'fussent', 'mes', 'eurent', 'eusses', 'pour', 'ait', 'que', 'sois', 'aurait', 'avons', 'soyons', 'se', 'leur', 'sa', 'mais', 'furent', 'soient', 'eus', 'aie', 'étante', 'eûmes', 'c', 'mon', 'ou', 'de', 'eûtes', 'je', 'serais', 'étaient', 'êtes', 'serions', 'été', 'elle', 'fusses', 'eues', 'aient', 'la', 'en', 'avait', 'aurions', 'ayant', 'est', 'serait', 'ce', 'dans', 'à', 'étiez', 'toi', 'moi', 'tu', 'étants', 'es', 'seraient', 'au', 'étais', 'eut', 'te', 'avez', 'l', 'as', 'auront', 'ayants', 'pas', 'votre'}\n"
     ]
    }
   ],
   "source": [
    "print(stop_words1)"
   ]
  },
  {
   "cell_type": "code",
   "execution_count": 25,
   "metadata": {},
   "outputs": [
    {
     "name": "stdout",
     "output_type": "stream",
     "text": [
      "157\n"
     ]
    }
   ],
   "source": [
    "print(len(stop_words1))"
   ]
  },
  {
   "cell_type": "markdown",
   "metadata": {},
   "source": [
    "3. passons à  l'étape du pré-procéssing de notre data_texte"
   ]
  },
  {
   "cell_type": "code",
   "execution_count": 26,
   "metadata": {},
   "outputs": [
    {
     "name": "stdout",
     "output_type": "stream",
     "text": [
      "Texte nettoyé avec succès.\n"
     ]
    }
   ],
   "source": [
    "def preprocess_text(text):\n",
    "    text = text.lower()  # Conversion en minuscules\n",
    "    text = unidecode(text)  # Suppression des accents\n",
    "    text = re.sub(r'http\\S+', '', text)  # Suppression des URL\n",
    "    text = re.sub(r'[^a-z\\s]', '', text)  # Suppression des caractères spéciaux\n",
    "    text = re.sub(r'\\b\\w{1,2}\\b', '', text)  # Suppression des mots très courts (1-2 lettres)\n",
    "    text = re.sub(r'\\s+', ' ', text)  # Suppression des espaces multiples\n",
    "    words = text.split()  # Tokenisation\n",
    "    words = [word for word in words if word not in stop_words1]  # Suppression des stopwords\n",
    "    return ' '.join(words).split()\n",
    "\n",
    "# Appliquer le nettoyage avancé\n",
    "text_cleaned = preprocess_text(article_text1)\n",
    "print(\"Texte nettoyé avec succès.\")"
   ]
  },
  {
   "cell_type": "code",
   "execution_count": 27,
   "metadata": {},
   "outputs": [
    {
     "data": {
      "text/plain": [
       "['dangereuse',\n",
       " 'dynamique',\n",
       " 'soldes',\n",
       " 'cartes',\n",
       " 'credit',\n",
       " 'etatsunis',\n",
       " 'finance',\n",
       " 'tous',\n",
       " 'aller',\n",
       " 'menu',\n",
       " 'aller',\n",
       " 'contenu',\n",
       " 'aller',\n",
       " 'recherche',\n",
       " 'acceder',\n",
       " 'navigation',\n",
       " 'finance',\n",
       " 'tous',\n",
       " 'acceder',\n",
       " 'recherche',\n",
       " 'pratique',\n",
       " 'decryptages',\n",
       " 'enseignants',\n",
       " 'juniors',\n",
       " 'boutique',\n",
       " 'accueil',\n",
       " 'actualites',\n",
       " 'rechercher',\n",
       " 'rechercher',\n",
       " 'finance',\n",
       " 'tous',\n",
       " 'facebook',\n",
       " 'finance',\n",
       " 'tous',\n",
       " 'twitter',\n",
       " 'finance',\n",
       " 'tous',\n",
       " 'linkedin',\n",
       " 'finance',\n",
       " 'tous',\n",
       " 'instagram',\n",
       " 'finance',\n",
       " 'tous',\n",
       " 'youtube',\n",
       " 'finance',\n",
       " 'tous',\n",
       " 'tiktok',\n",
       " 'finance',\n",
       " 'tous',\n",
       " 'site',\n",
       " 'pedagogique',\n",
       " 'largent',\n",
       " 'finance',\n",
       " 'finance',\n",
       " 'tous',\n",
       " 'association',\n",
       " 'dinteret',\n",
       " 'general',\n",
       " 'creee',\n",
       " 'aider',\n",
       " 'chacun',\n",
       " 'sentir',\n",
       " 'plus',\n",
       " 'laise',\n",
       " 'questions',\n",
       " 'economiques',\n",
       " 'financieres',\n",
       " 'rechercher',\n",
       " 'rechercher',\n",
       " 'fermer',\n",
       " 'fermer',\n",
       " 'resultats',\n",
       " 'recherche',\n",
       " 'actualites',\n",
       " 'decryptages',\n",
       " 'dangereuse',\n",
       " 'dynamique',\n",
       " 'soldes',\n",
       " 'cartes',\n",
       " 'credit',\n",
       " 'etatsunis',\n",
       " 'dangereuse',\n",
       " 'dynamique',\n",
       " 'soldes',\n",
       " 'cartes',\n",
       " 'credit',\n",
       " 'etatsunis',\n",
       " 'septembre',\n",
       " 'finance',\n",
       " 'tous',\n",
       " 'facebook',\n",
       " 'facebook',\n",
       " 'messenger',\n",
       " 'linkedin',\n",
       " 'whatsapp',\n",
       " 'twitter',\n",
       " 'copier',\n",
       " 'lien',\n",
       " 'depuis',\n",
       " 'fin',\n",
       " 'lannee',\n",
       " 'plusieurs',\n",
       " 'voix',\n",
       " 'lindustrie',\n",
       " 'economique',\n",
       " 'financiere',\n",
       " 'salarment',\n",
       " 'dynamique',\n",
       " 'prets',\n",
       " 'consommation',\n",
       " 'etatsunis',\n",
       " 'bien',\n",
       " 'quune',\n",
       " 'nouvelle',\n",
       " 'crise',\n",
       " 'financiere',\n",
       " 'origine',\n",
       " 'prets',\n",
       " 'menages',\n",
       " 'joue',\n",
       " 'larlesienne',\n",
       " 'depuis',\n",
       " 'dizaine',\n",
       " 'dannees',\n",
       " 'dernieres',\n",
       " 'evolutions',\n",
       " 'laissent',\n",
       " 'presager',\n",
       " 'certain',\n",
       " 'nombre',\n",
       " 'difficultes',\n",
       " 'venir',\n",
       " 'laugmentation',\n",
       " 'taux',\n",
       " 'dimpayes',\n",
       " 'soldes',\n",
       " 'cartes',\n",
       " 'credit',\n",
       " 'particulier',\n",
       " 'coeur',\n",
       " 'inquietudes',\n",
       " 'petit',\n",
       " 'tour',\n",
       " 'dhorizon',\n",
       " 'fonctionnement',\n",
       " 'credit',\n",
       " 'consommation',\n",
       " 'usa',\n",
       " 'premiere',\n",
       " 'economie',\n",
       " 'monde',\n",
       " 'etatsunis',\n",
       " 'bien',\n",
       " 'plus',\n",
       " 'quen',\n",
       " 'france',\n",
       " 'credit',\n",
       " 'integre',\n",
       " 'habitudes',\n",
       " 'consommation',\n",
       " 'menages',\n",
       " 'marche',\n",
       " 'credit',\n",
       " 'immobilier',\n",
       " 'bien',\n",
       " 'entendu',\n",
       " 'tres',\n",
       " 'profond',\n",
       " 'difference',\n",
       " 'plus',\n",
       " 'notable',\n",
       " 'pays',\n",
       " 'deurope',\n",
       " 'concerne',\n",
       " 'credits',\n",
       " 'consommation',\n",
       " 'montant',\n",
       " 'depasse',\n",
       " 'present',\n",
       " 'milliards',\n",
       " 'dollars',\n",
       " 'environ',\n",
       " 'pib',\n",
       " 'americain',\n",
       " 'france',\n",
       " 'represente',\n",
       " 'environ',\n",
       " 'pib',\n",
       " 'parmi',\n",
       " 'credits',\n",
       " 'consommation',\n",
       " 'environ',\n",
       " 'milliards',\n",
       " 'soldes',\n",
       " 'carte',\n",
       " 'credit',\n",
       " 'comment',\n",
       " 'fonctionnent',\n",
       " 'cartes',\n",
       " 'credit',\n",
       " 'usa',\n",
       " 'lon',\n",
       " 'appelle',\n",
       " 'couramment',\n",
       " 'cartes',\n",
       " 'credit',\n",
       " 'france',\n",
       " 'fait',\n",
       " 'plupart',\n",
       " 'temps',\n",
       " 'cartes',\n",
       " 'debit',\n",
       " 'chaque',\n",
       " 'paiement',\n",
       " 'realise',\n",
       " 'montant',\n",
       " 'transaction',\n",
       " 'ponctionne',\n",
       " 'compte',\n",
       " 'courant',\n",
       " 'associe',\n",
       " 'carte',\n",
       " 'existe',\n",
       " 'bien',\n",
       " 'cartes',\n",
       " 'debit',\n",
       " 'differe',\n",
       " 'lon',\n",
       " 'appelle',\n",
       " 'cartes',\n",
       " 'credit',\n",
       " 'permettent',\n",
       " 'netre',\n",
       " 'ponctionne',\n",
       " 'montants',\n",
       " 'toutes',\n",
       " 'transactions',\n",
       " 'qua',\n",
       " 'fin',\n",
       " 'mois',\n",
       " 'voire',\n",
       " 'mois',\n",
       " 'suivant',\n",
       " 'cartes',\n",
       " 'credit',\n",
       " 'renouvelable',\n",
       " 'utilisees',\n",
       " 'etatsunis',\n",
       " 'bien',\n",
       " 'plus',\n",
       " 'rares',\n",
       " 'france',\n",
       " 'meme',\n",
       " 'elles',\n",
       " 'existent',\n",
       " 'souvent',\n",
       " 'associees',\n",
       " 'enseigne',\n",
       " 'commerciale',\n",
       " 'lire',\n",
       " 'aussi',\n",
       " 'siteles',\n",
       " 'cartes',\n",
       " 'ligne',\n",
       " 'creditune',\n",
       " 'carte',\n",
       " 'bancaire',\n",
       " 'credit',\n",
       " 'permet',\n",
       " 'retirer',\n",
       " 'especes',\n",
       " 'regler',\n",
       " 'achats',\n",
       " 'cartes',\n",
       " 'debit',\n",
       " 'differe',\n",
       " 'permettent',\n",
       " 'retarder',\n",
       " 'prelevement',\n",
       " 'cartes',\n",
       " 'credit',\n",
       " 'renouvelable',\n",
       " 'permettent',\n",
       " 'particuliers',\n",
       " 'demprunter',\n",
       " 'tirant',\n",
       " 'ligne',\n",
       " 'credit',\n",
       " 'dont',\n",
       " 'plafond',\n",
       " 'fixe',\n",
       " 'lavance',\n",
       " 'detenteur',\n",
       " 'peut',\n",
       " 'rembourser',\n",
       " 'credit',\n",
       " 'possible',\n",
       " 'peut',\n",
       " 'egalement',\n",
       " 'faire',\n",
       " 'courir',\n",
       " 'plusieurs',\n",
       " 'semaines',\n",
       " 'voire',\n",
       " 'plusieurs',\n",
       " 'mois',\n",
       " 'doit',\n",
       " 'simplement',\n",
       " 'sacquitter',\n",
       " 'dun',\n",
       " 'montant',\n",
       " 'mensuel',\n",
       " 'minimum',\n",
       " 'general',\n",
       " 'assez',\n",
       " 'faible',\n",
       " 'interets',\n",
       " 'alors',\n",
       " 'appliques',\n",
       " 'solde',\n",
       " 'restant',\n",
       " 'somme',\n",
       " 'cartes',\n",
       " 'credit',\n",
       " 'renouvelable',\n",
       " 'equivalentes',\n",
       " 'credits',\n",
       " 'consommation',\n",
       " 'flexibles',\n",
       " 'non',\n",
       " 'affectes',\n",
       " 'vers',\n",
       " 'depenses',\n",
       " 'particulier',\n",
       " 'elles',\n",
       " 'font',\n",
       " 'partie',\n",
       " 'habitudes',\n",
       " 'consommation',\n",
       " 'beaucoup',\n",
       " 'damericains',\n",
       " 'elles',\n",
       " 'permettent',\n",
       " 'plus',\n",
       " 'dune',\n",
       " 'flexibilite',\n",
       " 'remboursements',\n",
       " 'donc',\n",
       " 'depenses',\n",
       " 'beneficier',\n",
       " 'remises',\n",
       " 'achats',\n",
       " 'via',\n",
       " 'service',\n",
       " 'cashback',\n",
       " 'miles',\n",
       " 'aeriens',\n",
       " 'services',\n",
       " 'protection',\n",
       " 'achats',\n",
       " 'dassurances',\n",
       " 'voyages',\n",
       " 'nombreux',\n",
       " 'avantages',\n",
       " 'additionnels',\n",
       " 'contribuent',\n",
       " 'lutilisation',\n",
       " 'massive',\n",
       " 'cartes',\n",
       " 'credit',\n",
       " 'meme',\n",
       " 'chez',\n",
       " 'menages',\n",
       " 'modestes',\n",
       " 'comprenant',\n",
       " 'fonctionnement',\n",
       " 'interets',\n",
       " 'composes',\n",
       " 'quelles',\n",
       " 'dernieres',\n",
       " 'evolutions',\n",
       " 'concernant',\n",
       " 'cartes',\n",
       " 'credit',\n",
       " 'etatsunis',\n",
       " 'periode',\n",
       " 'postcovid',\n",
       " 'justement',\n",
       " 'marquee',\n",
       " 'forte',\n",
       " 'augmentation',\n",
       " 'soldes',\n",
       " 'carte',\n",
       " 'credit',\n",
       " 'faut',\n",
       " 'retourner',\n",
       " 'milieu',\n",
       " 'annees',\n",
       " 'retrouver',\n",
       " 'croissance',\n",
       " 'aussi',\n",
       " 'soutenue',\n",
       " 'source',\n",
       " 'principale',\n",
       " 'cette',\n",
       " 'hausse',\n",
       " 'bien',\n",
       " 'entendu',\n",
       " 'linflation',\n",
       " 'augmente',\n",
       " 'cout',\n",
       " 'vie',\n",
       " 'menages',\n",
       " 'dont',\n",
       " 'salaire',\n",
       " 'suit',\n",
       " 'souvent',\n",
       " 'retard',\n",
       " 'prix',\n",
       " 'entre',\n",
       " 'janvier',\n",
       " 'avril',\n",
       " 'prix',\n",
       " 'nourriture',\n",
       " 'augmente',\n",
       " 'cout',\n",
       " 'logement',\n",
       " 'salaires',\n",
       " 'seulement',\n",
       " 'souscrire',\n",
       " 'carte',\n",
       " 'credit',\n",
       " 'renouvelable',\n",
       " 'augmenter',\n",
       " 'solde',\n",
       " 'donc',\n",
       " 'court',\n",
       " 'terme',\n",
       " 'meilleur',\n",
       " 'moyen',\n",
       " 'faire',\n",
       " 'face',\n",
       " 'difficultes',\n",
       " 'tant',\n",
       " 'telle',\n",
       " 'croissance',\n",
       " 'credit',\n",
       " 'nest',\n",
       " 'toujours',\n",
       " 'signe',\n",
       " 'dun',\n",
       " 'emballement',\n",
       " 'cependant',\n",
       " 'ici',\n",
       " 'cette',\n",
       " 'hausse',\n",
       " 'correlee',\n",
       " 'forte',\n",
       " 'augmentation',\n",
       " 'taux',\n",
       " 'dinteret',\n",
       " 'associes',\n",
       " 'soldes',\n",
       " 'cartes',\n",
       " 'credit',\n",
       " 'derniers',\n",
       " 'maintenant',\n",
       " 'audela',\n",
       " 'peut',\n",
       " 'mener',\n",
       " 'menage',\n",
       " 'imprudent',\n",
       " 'voir',\n",
       " 'dettes',\n",
       " 'exploser',\n",
       " 'toute',\n",
       " 'vitesse',\n",
       " 'cette',\n",
       " 'hausse',\n",
       " 'taux',\n",
       " 'dinteret',\n",
       " 'suit',\n",
       " 'bien',\n",
       " 'tendance',\n",
       " 'generale',\n",
       " 'marches',\n",
       " 'impulsee',\n",
       " 'politique',\n",
       " 'monetaire',\n",
       " 'restrictive',\n",
       " 'reserve',\n",
       " 'federale',\n",
       " 'laisse',\n",
       " 'egalement',\n",
       " 'presager',\n",
       " 'solidite',\n",
       " 'financiere',\n",
       " 'menages',\n",
       " 'carte',\n",
       " 'credit',\n",
       " 'degrade',\n",
       " 'cette',\n",
       " 'degradation',\n",
       " 'peut',\n",
       " 'avoir',\n",
       " 'origine',\n",
       " 'conjoncture',\n",
       " 'economique',\n",
       " 'egalement',\n",
       " 'reflet',\n",
       " 'choix',\n",
       " 'banques',\n",
       " 'americaines',\n",
       " 'acceptent',\n",
       " 'financer',\n",
       " 'menages',\n",
       " 'plus',\n",
       " 'pauvres',\n",
       " 'fois',\n",
       " 'revenu',\n",
       " 'patrimoine',\n",
       " 'cartes',\n",
       " 'credit',\n",
       " 'cycle',\n",
       " 'dangereux',\n",
       " 'impayes',\n",
       " 'alarme',\n",
       " 'veritablement',\n",
       " 'commentateurs',\n",
       " 'cest',\n",
       " 'hausse',\n",
       " 'soutenue',\n",
       " 'taux',\n",
       " 'dimpayes',\n",
       " 'soldes',\n",
       " 'cartes',\n",
       " 'credit',\n",
       " 'sagit',\n",
       " 'pourcentage',\n",
       " 'demprunteurs',\n",
       " 'nayant',\n",
       " 'procede',\n",
       " 'versement',\n",
       " 'minimum',\n",
       " 'exige',\n",
       " 'souvent',\n",
       " 'mensuel',\n",
       " 'depasse',\n",
       " 'maintenant',\n",
       " 'lensemble',\n",
       " 'menages',\n",
       " 'jusqua',\n",
       " 'banques',\n",
       " 'plus',\n",
       " 'petites',\n",
       " 'taux',\n",
       " 'dimpayes',\n",
       " 'peut',\n",
       " 'sembler',\n",
       " 'raisonnable',\n",
       " 'cependant',\n",
       " 'plusieurs',\n",
       " 'points',\n",
       " 'negliger',\n",
       " 'tout',\n",
       " 'dabord',\n",
       " 'taux',\n",
       " 'nest',\n",
       " 'stabilise',\n",
       " 'peut',\n",
       " 'attendre',\n",
       " 'futures',\n",
       " 'hausses',\n",
       " 'surtout',\n",
       " 'taux',\n",
       " 'doit',\n",
       " 'etre',\n",
       " 'interprete',\n",
       " 'comme',\n",
       " 'signal',\n",
       " 'dinsolvabilite',\n",
       " 'certains',\n",
       " 'menages',\n",
       " 'meme',\n",
       " 'faible',\n",
       " 'nombre',\n",
       " 'menages',\n",
       " 'remboursant',\n",
       " 'leurs',\n",
       " 'dettes',\n",
       " 'peut',\n",
       " 'entrainer',\n",
       " 'chute',\n",
       " 'beaucoup',\n",
       " 'dautres',\n",
       " 'effet',\n",
       " 'domino',\n",
       " 'schematiser',\n",
       " 'menages',\n",
       " 'soldent',\n",
       " 'compte',\n",
       " 'alors',\n",
       " 'banques',\n",
       " 'augmenteraient',\n",
       " 'fortement',\n",
       " 'taux',\n",
       " 'dinteret',\n",
       " 'couvrir',\n",
       " 'pertes',\n",
       " 'desinciter',\n",
       " 'autres',\n",
       " 'menages',\n",
       " 'surendetter',\n",
       " 'cette',\n",
       " 'hausse',\n",
       " 'taux',\n",
       " 'rendrait',\n",
       " 'situation',\n",
       " 'nouveaux',\n",
       " 'menages',\n",
       " 'intenable',\n",
       " 'ainsi',\n",
       " 'suite',\n",
       " 'maniere',\n",
       " 'generale',\n",
       " 'monde',\n",
       " 'financier',\n",
       " 'effets',\n",
       " 'dominos',\n",
       " 'legion',\n",
       " 'convient',\n",
       " 'sousestimer',\n",
       " 'difficultes',\n",
       " 'acteurs',\n",
       " 'meme',\n",
       " 'elles',\n",
       " 'peuvent',\n",
       " 'apparaitre',\n",
       " 'comme',\n",
       " 'goutte',\n",
       " 'deau',\n",
       " 'locean',\n",
       " 'regulateurs',\n",
       " 'americains',\n",
       " 'semblent',\n",
       " 'linstant',\n",
       " 'considerer',\n",
       " 'situation',\n",
       " 'comme',\n",
       " 'stabilisee',\n",
       " 'choc',\n",
       " 'exterieur',\n",
       " 'menerait',\n",
       " 'exemple',\n",
       " 'nouvelle',\n",
       " 'hausse',\n",
       " 'prix',\n",
       " 'hausse',\n",
       " 'chomage',\n",
       " 'pourrait',\n",
       " 'rapidement',\n",
       " 'degrader',\n",
       " 'dailleurs',\n",
       " 'interessant',\n",
       " 'noter',\n",
       " 'taux',\n",
       " 'dimpayes',\n",
       " 'soldes',\n",
       " 'cartes',\n",
       " 'credit',\n",
       " 'nest',\n",
       " 'seul',\n",
       " 'inquieter',\n",
       " 'taux',\n",
       " 'defaillance',\n",
       " 'titres',\n",
       " 'adosses',\n",
       " 'creances',\n",
       " 'hypothecaires',\n",
       " 'commerciales',\n",
       " 'passe',\n",
       " 'audela',\n",
       " 'cet',\n",
       " 'ete',\n",
       " 'rappellerons',\n",
       " 'crise',\n",
       " 'subprimes',\n",
       " 'origine',\n",
       " 'nonremboursement',\n",
       " 'titres',\n",
       " 'adosses',\n",
       " 'creances',\n",
       " 'hypothecaires',\n",
       " 'residentielles',\n",
       " 'aller',\n",
       " 'plus',\n",
       " 'loin',\n",
       " 'juniors',\n",
       " 'crise',\n",
       " 'subprimes',\n",
       " 'declenchee',\n",
       " 'etatsunis',\n",
       " 'crise',\n",
       " 'subprimes',\n",
       " 'trouve',\n",
       " 'origine',\n",
       " 'exces',\n",
       " 'dendettement',\n",
       " 'particuliers',\n",
       " 'decryptages',\n",
       " 'risque',\n",
       " 'systemique',\n",
       " 'appelle',\n",
       " 'risque',\n",
       " 'systemique',\n",
       " 'risque',\n",
       " 'quun',\n",
       " 'evenement',\n",
       " 'particulier',\n",
       " 'entraine',\n",
       " 'reactions',\n",
       " 'chaine',\n",
       " 'effets',\n",
       " 'negatifs',\n",
       " 'considerables',\n",
       " 'decryptages',\n",
       " 'federal',\n",
       " 'reserve',\n",
       " 'system',\n",
       " 'fed',\n",
       " 'creee',\n",
       " 'decembre',\n",
       " 'federal',\n",
       " 'reserve',\n",
       " 'act',\n",
       " 'reaction',\n",
       " 'crise',\n",
       " 'financiere',\n",
       " 'autres',\n",
       " 'liens',\n",
       " 'bank',\n",
       " 'credit',\n",
       " 'risk',\n",
       " 'pdf',\n",
       " 'calculateurs',\n",
       " 'calculateur',\n",
       " 'tva',\n",
       " 'quiz',\n",
       " 'pourquoi',\n",
       " 'investir',\n",
       " 'long',\n",
       " 'terme',\n",
       " 'grand',\n",
       " 'prix',\n",
       " 'finance',\n",
       " 'tous',\n",
       " 'etudiants',\n",
       " 'participez',\n",
       " 'tenter',\n",
       " 'gagner',\n",
       " 'jusqua',\n",
       " 'envoyeznous',\n",
       " 'production',\n",
       " 'video',\n",
       " 'poesie',\n",
       " 'article',\n",
       " 'avant',\n",
       " 'mars',\n",
       " 'toutes',\n",
       " 'infos',\n",
       " 'grand',\n",
       " 'prix',\n",
       " 'newsletter',\n",
       " 'recevez',\n",
       " 'lettre',\n",
       " 'dinformation',\n",
       " 'mensuelle',\n",
       " 'completant',\n",
       " 'formulaire',\n",
       " 'acceptez',\n",
       " 'lassociation',\n",
       " 'iefp',\n",
       " 'traite',\n",
       " 'donnees',\n",
       " 'personnelles',\n",
       " 'seule',\n",
       " 'fin',\n",
       " 'permettre',\n",
       " 'recevoir',\n",
       " 'lettre',\n",
       " 'dinformation',\n",
       " 'mensuelle',\n",
       " 'savoir',\n",
       " 'plus',\n",
       " 'droits',\n",
       " 'pratiques',\n",
       " 'matiere',\n",
       " 'protection',\n",
       " 'donnees',\n",
       " 'personnelles',\n",
       " 'mentions',\n",
       " 'legales',\n",
       " 'adresse',\n",
       " 'email',\n",
       " 'navons',\n",
       " 'confirmer',\n",
       " 'inscription',\n",
       " 'inscription',\n",
       " 'confirmee',\n",
       " 'outils',\n",
       " 'questions',\n",
       " 'reponses',\n",
       " 'quiz',\n",
       " 'calculateurs',\n",
       " 'videotheque',\n",
       " 'infographies',\n",
       " 'bibliotheque',\n",
       " 'dictionnaire',\n",
       " 'propos',\n",
       " 'site',\n",
       " 'lafinancepourtouscom',\n",
       " 'edite',\n",
       " 'linstitut',\n",
       " 'leducation',\n",
       " 'financiere',\n",
       " 'public',\n",
       " 'iefp',\n",
       " 'association',\n",
       " 'dinteret',\n",
       " 'general',\n",
       " 'eligible',\n",
       " 'mecenat',\n",
       " 'agreee',\n",
       " 'ministere',\n",
       " 'leducation',\n",
       " 'nationale',\n",
       " 'liefp',\n",
       " 'ete',\n",
       " 'cree',\n",
       " 'aider',\n",
       " 'chacun',\n",
       " 'acquerir',\n",
       " 'bases',\n",
       " 'connaissances',\n",
       " 'necessaires',\n",
       " 'sentir',\n",
       " 'plus',\n",
       " 'laise',\n",
       " 'questions',\n",
       " 'financieres',\n",
       " 'comprendre',\n",
       " 'enjeux',\n",
       " 'economiques',\n",
       " 'monde',\n",
       " 'lequel',\n",
       " 'vivons',\n",
       " 'prendre',\n",
       " 'toute',\n",
       " 'connaissance',\n",
       " 'cause',\n",
       " 'decisions',\n",
       " 'concernent',\n",
       " 'savoir',\n",
       " 'sommesnous',\n",
       " 'partenaires',\n",
       " 'espace',\n",
       " 'presse',\n",
       " 'plan',\n",
       " 'site',\n",
       " 'contact',\n",
       " 'mentions',\n",
       " 'legales',\n",
       " 'gestion',\n",
       " 'cookies',\n",
       " 'finance',\n",
       " 'tous',\n",
       " 'facebook',\n",
       " 'finance',\n",
       " 'tous',\n",
       " 'twitter',\n",
       " 'finance',\n",
       " 'tous',\n",
       " 'linkedin',\n",
       " 'finance',\n",
       " 'tous',\n",
       " 'instagram',\n",
       " 'finance',\n",
       " 'tous',\n",
       " 'youtube',\n",
       " 'finance',\n",
       " 'tous',\n",
       " 'tiktok',\n",
       " 'pratique',\n",
       " 'accueil',\n",
       " 'actualites',\n",
       " 'offline',\n",
       " 'contact',\n",
       " 'fetchdictionary',\n",
       " 'mentions',\n",
       " 'legales',\n",
       " 'sitemap',\n",
       " 'plan',\n",
       " 'site',\n",
       " 'posez',\n",
       " 'question',\n",
       " 'quelques',\n",
       " 'chiffres',\n",
       " 'lepargne',\n",
       " 'salariale',\n",
       " 'pratique',\n",
       " 'decryptages',\n",
       " 'enseignants',\n",
       " 'juniors',\n",
       " 'boutique',\n",
       " 'sommesnous',\n",
       " 'outils',\n",
       " 'decryptages',\n",
       " 'accueil',\n",
       " 'actualites',\n",
       " 'offline',\n",
       " 'contact',\n",
       " 'fetchdictionary',\n",
       " 'mentions',\n",
       " 'legales',\n",
       " 'sitemap',\n",
       " 'plan',\n",
       " 'site',\n",
       " 'posez',\n",
       " 'question',\n",
       " 'quelques',\n",
       " 'chiffres',\n",
       " 'lepargne',\n",
       " 'salariale',\n",
       " 'pratique',\n",
       " 'decryptages',\n",
       " 'enseignants',\n",
       " 'juniors',\n",
       " 'boutique',\n",
       " 'sommesnous',\n",
       " 'outils',\n",
       " 'enseignants',\n",
       " 'accueil',\n",
       " 'actualites',\n",
       " 'offline',\n",
       " 'contact',\n",
       " 'fetchdictionary',\n",
       " 'mentions',\n",
       " 'legales',\n",
       " 'sitemap',\n",
       " 'plan',\n",
       " 'site',\n",
       " 'posez',\n",
       " 'question',\n",
       " 'quelques',\n",
       " 'chiffres',\n",
       " 'lepargne',\n",
       " 'salariale',\n",
       " 'pratique',\n",
       " 'decryptages',\n",
       " 'enseignants',\n",
       " 'juniors',\n",
       " 'boutique',\n",
       " 'sommesnous',\n",
       " 'outils',\n",
       " 'juniors',\n",
       " 'accueil',\n",
       " 'actualites',\n",
       " 'offline',\n",
       " 'contact',\n",
       " 'fetchdictionary',\n",
       " 'mentions',\n",
       " 'legales',\n",
       " 'sitemap',\n",
       " 'plan',\n",
       " 'site',\n",
       " 'posez',\n",
       " 'question',\n",
       " 'quelques',\n",
       " 'chiffres',\n",
       " 'lepargne',\n",
       " 'salariale',\n",
       " 'pratique',\n",
       " 'decryptages',\n",
       " 'enseignants',\n",
       " 'juniors',\n",
       " 'boutique',\n",
       " 'sommesnous',\n",
       " 'outils',\n",
       " 'boutique',\n",
       " 'accueil',\n",
       " 'actualites',\n",
       " 'offline',\n",
       " 'contact',\n",
       " 'fetchdictionary',\n",
       " 'mentions',\n",
       " 'legales',\n",
       " 'sitemap',\n",
       " 'plan',\n",
       " 'site',\n",
       " 'posez',\n",
       " ...]"
      ]
     },
     "execution_count": 27,
     "metadata": {},
     "output_type": "execute_result"
    }
   ],
   "source": [
    "text_cleaned"
   ]
  },
  {
   "cell_type": "markdown",
   "metadata": {},
   "source": [
    "Après la phase du pré_processing, le texte a été considérablement nettoyé, passant de 15141 termes bruts à seulement 1223 mots significatifs prêts pour l'analyse."
   ]
  },
  {
   "cell_type": "code",
   "execution_count": 28,
   "metadata": {},
   "outputs": [
    {
     "name": "stdout",
     "output_type": "stream",
     "text": [
      "Longueur des données brutes (concaténées) : 15141 caractères.\n",
      "Nombre de mots après prétraitement : 1223 mots.\n"
     ]
    }
   ],
   "source": [
    "print(f\"Longueur des données brutes (concaténées) : {len(article_text1)} caractères.\")\n",
    "print(f\"Nombre de mots après prétraitement : {len(text_cleaned)} mots.\")"
   ]
  },
  {
   "cell_type": "markdown",
   "metadata": {},
   "source": [
    "4.Phase de vectorisation\n",
    "\n",
    " Nous avons opter pour la technique de vectorisation tf-idf(Term-Frequency-Inverse Document Frequency), elle va nous permet de pondérer la fréquence de nos tokens en fonction de son importance relative . \n",
    "\n",
    " On calculera donc le score de chacun des mots dans notre (text_cleaned)"
   ]
  },
  {
   "cell_type": "code",
   "execution_count": 29,
   "metadata": {},
   "outputs": [],
   "source": [
    "from sklearn.feature_extraction.text import TfidfVectorizer\n",
    "\n",
    "\n",
    "tfidf_vectorizer = TfidfVectorizer(max_features=100,ngram_range=(1,2))\n",
    "tfidf_matrix = tfidf_vectorizer.fit_transform([' '.join(text_cleaned)])\n",
    "tdidf_df = pd.DataFrame(\n",
    "    tfidf_matrix.toarray(),\n",
    "    columns=tfidf_vectorizer.get_feature_names_out()\n",
    ")\n"
   ]
  },
  {
   "cell_type": "code",
   "execution_count": 30,
   "metadata": {},
   "outputs": [
    {
     "name": "stdout",
     "output_type": "stream",
     "text": [
      "['accueil' 'accueil actualites' 'actualites' 'actualites offline' 'aucun'\n",
      " 'aucun cookie' 'autoriser' 'autoriser refuser' 'bien' 'boutique'\n",
      " 'boutique sommesnous' 'carte' 'carte credit' 'cartes' 'cartes credit'\n",
      " 'cette' 'cette hausse' 'chiffres' 'chiffres lepargne' 'consommation'\n",
      " 'contact' 'contact fetchdictionary' 'cookie' 'cookie savoir' 'cookies'\n",
      " 'credit' 'credit etatsunis' 'credit renouvelable' 'crise' 'decryptages'\n",
      " 'decryptages enseignants' 'depose' 'depose aucun' 'dimpayes' 'dinteret'\n",
      " 'dynamique' 'enseignants' 'enseignants juniors' 'etatsunis' 'facebook'\n",
      " 'fetchdictionary' 'fetchdictionary mentions' 'finance' 'finance tous'\n",
      " 'financiere' 'france' 'hausse' 'juniors' 'juniors boutique' 'legales'\n",
      " 'legales sitemap' 'lepargne' 'lepargne salariale' 'menages' 'mentions'\n",
      " 'mentions legales' 'officiel' 'officiel autoriser' 'offline'\n",
      " 'offline contact' 'origine' 'outils' 'permettent' 'peut' 'plan'\n",
      " 'plan site' 'plus' 'plus voir' 'posez' 'posez question' 'pratique'\n",
      " 'pratique decryptages' 'prix' 'quelques' 'quelques chiffres' 'question'\n",
      " 'question quelques' 'recherche' 'refuser' 'salariale'\n",
      " 'salariale pratique' 'savoir' 'savoir plus' 'service' 'service depose'\n",
      " 'services' 'site' 'site officiel' 'site posez' 'sitemap' 'sitemap plan'\n",
      " 'soldes' 'soldes cartes' 'sommesnous' 'sommesnous outils' 'taux'\n",
      " 'taux dimpayes' 'tous' 'voir' 'voir site']\n"
     ]
    }
   ],
   "source": [
    "print(tfidf_vectorizer.get_feature_names_out())"
   ]
  },
  {
   "cell_type": "code",
   "execution_count": 31,
   "metadata": {},
   "outputs": [
    {
     "name": "stdout",
     "output_type": "stream",
     "text": [
      "                  Mot  Fréquence\n",
      "0             accueil   0.074029\n",
      "1  accueil actualites   0.074029\n",
      "2          actualites   0.098705\n",
      "3  actualites offline   0.061691\n",
      "4               aucun   0.061691\n"
     ]
    }
   ],
   "source": [
    "# Conversion en DataFrame avec les mots comme lignes et leurs fréquences\n",
    "tdidf_df = pd.DataFrame(tdidf_df.sum(axis=0), columns=['Fréquence']).reset_index()\n",
    "tdidf_df.rename(columns={'index': 'Mot'}, inplace=True)\n",
    "\n",
    "# Vérification des colonnes\n",
    "print(tdidf_df.head())"
   ]
  },
  {
   "cell_type": "code",
   "execution_count": 32,
   "metadata": {},
   "outputs": [],
   "source": [
    "stop_words = list(stop_words1)\n",
    "# Liste des stop words à exclure\n",
    "stop_words.extend([\n",
    "    'accueil actualites','actualites offline','aucun','aucun cookie', 'bien','boutique sommesnous','cette','chiffres lepargne',\n",
    "   'contact fetchdictionary', 'cookie','cookie savoir', 'cookies', 'decryptages enseignants','depose','depose aucun','dimpayes',\n",
    "   'enseignants juniors' ,'fetchdictionary' ,'fetchdictionary mentions' ,'finance tous', 'juniors','juniors boutique',\n",
    "    'legales sitemap', 'mentions','mentions legales','officiel autoriser','offline contact','permettent' ,\n",
    "    'plus', 'plus voir', 'posez', 'posez question' ,'quelques', 'question quelques', 'salariale pratique', 'savoir' ,'savoir plus',\n",
    "      'service', 'service depose','site posez' ,'sitemap' ,'sitemap plan', 'sommesnous', 'sommesnous outils',\n",
    "      'taux dimpayes', 'tous', 'voir' ,'voir site','plan'\n",
    "])\n",
    "\n",
    "# Filtrage des mots pertinents\n",
    "filtered_tdidf_df = tdidf_df[\n",
    "    (tdidf_df['Fréquence'] > 0.05) &  # Fréquence minimale\n",
    "    (tdidf_df['Fréquence'] < 0.5) &  # Fréquence maximale\n",
    "    (tdidf_df['Mot'].str.len().between(4, 15)) &  # Longueur des mots\n",
    "    (~tdidf_df['Mot'].str.contains(r'[^a-zA-Zéèêàùç]', regex=True)) &  # Exclusion des mots avec caractères spéciaux\n",
    "    (~tdidf_df['Mot'].isin(stop_words1))  # Exclusion des stopwords\n",
    "]"
   ]
  },
  {
   "cell_type": "code",
   "execution_count": 33,
   "metadata": {},
   "outputs": [
    {
     "name": "stdout",
     "output_type": "stream",
     "text": [
      "                Mot  Fréquence\n",
      "0           accueil   0.074029\n",
      "2        actualites   0.098705\n",
      "4             aucun   0.061691\n",
      "6         autoriser   0.074029\n",
      "8              bien   0.086367\n",
      "9          boutique   0.086367\n",
      "11            carte   0.074029\n",
      "13           cartes   0.246763\n",
      "15            cette   0.061691\n",
      "17         chiffres   0.061691\n",
      "19     consommation   0.086367\n",
      "20          contact   0.086367\n",
      "22           cookie   0.061691\n",
      "24          cookies   0.098705\n",
      "25           credit   0.345468\n",
      "28            crise   0.061691\n",
      "29      decryptages   0.123382\n",
      "31           depose   0.061691\n",
      "34         dinteret   0.061691\n",
      "36      enseignants   0.086367\n",
      "38        etatsunis   0.098705\n",
      "39         facebook   0.061691\n",
      "40  fetchdictionary   0.061691\n",
      "42          finance   0.234425\n",
      "44       financiere   0.061691\n",
      "46           hausse   0.086367\n",
      "47          juniors   0.098705\n",
      "49          legales   0.086367\n",
      "51         lepargne   0.061691\n",
      "53          menages   0.148058\n",
      "54         mentions   0.086367\n",
      "56         officiel   0.061691\n",
      "58          offline   0.061691\n",
      "61           outils   0.074029\n",
      "62       permettent   0.123382\n",
      "63             peut   0.086367\n",
      "64             plan   0.074029\n",
      "66             plus   0.185072\n",
      "68            posez   0.061691\n",
      "70         pratique   0.086367\n",
      "72             prix   0.061691\n",
      "73         quelques   0.061691\n",
      "75         question   0.061691\n",
      "78          refuser   0.086367\n",
      "79        salariale   0.061691\n",
      "81           savoir   0.086367\n",
      "83          service   0.074029\n",
      "85         services   0.086367\n",
      "86             site   0.259101\n",
      "89          sitemap   0.061691\n",
      "91           soldes   0.111043\n",
      "93       sommesnous   0.074029\n",
      "95             taux   0.135720\n",
      "97             tous   0.271440\n",
      "98             voir   0.074029\n"
     ]
    }
   ],
   "source": [
    "# affichage de la frequence du IF-IDF par colonne\n",
    "pd.set_option(\"display.max_columns\", None)  \n",
    "pd.set_option(\"display.width\", None)       \n",
    "print(filtered_tdidf_df)"
   ]
  },
  {
   "cell_type": "code",
   "execution_count": 34,
   "metadata": {},
   "outputs": [
    {
     "data": {
      "application/vnd.plotly.v1+json": {
       "config": {
        "plotlyServerURL": "https://plot.ly"
       },
       "data": [
        {
         "alignmentgroup": "True",
         "hovertemplate": "<b>%{hovertext}</b><br><br>Mot=%{x}<br>Fréquence=%{marker.color}<extra></extra>",
         "hovertext": [
          "accueil",
          "actualites",
          "aucun",
          "autoriser",
          "bien",
          "boutique",
          "carte",
          "cartes",
          "cette",
          "chiffres",
          "consommation",
          "contact",
          "cookie",
          "cookies",
          "credit",
          "crise",
          "decryptages",
          "depose",
          "dinteret",
          "enseignants",
          "etatsunis",
          "facebook",
          "fetchdictionary",
          "finance",
          "financiere",
          "hausse",
          "juniors",
          "legales",
          "lepargne",
          "menages",
          "mentions",
          "officiel",
          "offline",
          "outils",
          "permettent",
          "peut",
          "plan",
          "plus",
          "posez",
          "pratique",
          "prix",
          "quelques",
          "question",
          "refuser",
          "salariale",
          "savoir",
          "service",
          "services",
          "site",
          "sitemap",
          "soldes",
          "sommesnous",
          "taux",
          "tous",
          "voir"
         ],
         "legendgroup": "",
         "marker": {
          "color": [
           0.07402895509679572,
           0.0987052734623943,
           0.061690795913996434,
           0.07402895509679572,
           0.08636711427959501,
           0.08636711427959501,
           0.07402895509679572,
           0.24676318365598574,
           0.061690795913996434,
           0.061690795913996434,
           0.08636711427959501,
           0.08636711427959501,
           0.061690795913996434,
           0.0987052734623943,
           0.34546845711838003,
           0.061690795913996434,
           0.12338159182799287,
           0.061690795913996434,
           0.061690795913996434,
           0.08636711427959501,
           0.0987052734623943,
           0.061690795913996434,
           0.061690795913996434,
           0.23442502447318644,
           0.061690795913996434,
           0.08636711427959501,
           0.0987052734623943,
           0.08636711427959501,
           0.061690795913996434,
           0.14805791019359144,
           0.08636711427959501,
           0.061690795913996434,
           0.061690795913996434,
           0.07402895509679572,
           0.12338159182799287,
           0.08636711427959501,
           0.07402895509679572,
           0.1850723877419893,
           0.061690795913996434,
           0.08636711427959501,
           0.061690795913996434,
           0.061690795913996434,
           0.061690795913996434,
           0.08636711427959501,
           0.061690795913996434,
           0.08636711427959501,
           0.07402895509679572,
           0.08636711427959501,
           0.259101342838785,
           0.061690795913996434,
           0.11104343264519358,
           0.07402895509679572,
           0.13571975101079214,
           0.2714395020215843,
           0.07402895509679572
          ],
          "coloraxis": "coloraxis",
          "pattern": {
           "shape": ""
          }
         },
         "name": "",
         "offsetgroup": "",
         "orientation": "v",
         "showlegend": false,
         "text": [
          0.07402895509679572,
          0.0987052734623943,
          0.061690795913996434,
          0.07402895509679572,
          0.08636711427959501,
          0.08636711427959501,
          0.07402895509679572,
          0.24676318365598574,
          0.061690795913996434,
          0.061690795913996434,
          0.08636711427959501,
          0.08636711427959501,
          0.061690795913996434,
          0.0987052734623943,
          0.34546845711838003,
          0.061690795913996434,
          0.12338159182799287,
          0.061690795913996434,
          0.061690795913996434,
          0.08636711427959501,
          0.0987052734623943,
          0.061690795913996434,
          0.061690795913996434,
          0.23442502447318644,
          0.061690795913996434,
          0.08636711427959501,
          0.0987052734623943,
          0.08636711427959501,
          0.061690795913996434,
          0.14805791019359144,
          0.08636711427959501,
          0.061690795913996434,
          0.061690795913996434,
          0.07402895509679572,
          0.12338159182799287,
          0.08636711427959501,
          0.07402895509679572,
          0.1850723877419893,
          0.061690795913996434,
          0.08636711427959501,
          0.061690795913996434,
          0.061690795913996434,
          0.061690795913996434,
          0.08636711427959501,
          0.061690795913996434,
          0.08636711427959501,
          0.07402895509679572,
          0.08636711427959501,
          0.259101342838785,
          0.061690795913996434,
          0.11104343264519358,
          0.07402895509679572,
          0.13571975101079214,
          0.2714395020215843,
          0.07402895509679572
         ],
         "textposition": "outside",
         "type": "bar",
         "x": [
          "accueil",
          "actualites",
          "aucun",
          "autoriser",
          "bien",
          "boutique",
          "carte",
          "cartes",
          "cette",
          "chiffres",
          "consommation",
          "contact",
          "cookie",
          "cookies",
          "credit",
          "crise",
          "decryptages",
          "depose",
          "dinteret",
          "enseignants",
          "etatsunis",
          "facebook",
          "fetchdictionary",
          "finance",
          "financiere",
          "hausse",
          "juniors",
          "legales",
          "lepargne",
          "menages",
          "mentions",
          "officiel",
          "offline",
          "outils",
          "permettent",
          "peut",
          "plan",
          "plus",
          "posez",
          "pratique",
          "prix",
          "quelques",
          "question",
          "refuser",
          "salariale",
          "savoir",
          "service",
          "services",
          "site",
          "sitemap",
          "soldes",
          "sommesnous",
          "taux",
          "tous",
          "voir"
         ],
         "xaxis": "x",
         "y": [
          0.07402895509679572,
          0.0987052734623943,
          0.061690795913996434,
          0.07402895509679572,
          0.08636711427959501,
          0.08636711427959501,
          0.07402895509679572,
          0.24676318365598574,
          0.061690795913996434,
          0.061690795913996434,
          0.08636711427959501,
          0.08636711427959501,
          0.061690795913996434,
          0.0987052734623943,
          0.34546845711838003,
          0.061690795913996434,
          0.12338159182799287,
          0.061690795913996434,
          0.061690795913996434,
          0.08636711427959501,
          0.0987052734623943,
          0.061690795913996434,
          0.061690795913996434,
          0.23442502447318644,
          0.061690795913996434,
          0.08636711427959501,
          0.0987052734623943,
          0.08636711427959501,
          0.061690795913996434,
          0.14805791019359144,
          0.08636711427959501,
          0.061690795913996434,
          0.061690795913996434,
          0.07402895509679572,
          0.12338159182799287,
          0.08636711427959501,
          0.07402895509679572,
          0.1850723877419893,
          0.061690795913996434,
          0.08636711427959501,
          0.061690795913996434,
          0.061690795913996434,
          0.061690795913996434,
          0.08636711427959501,
          0.061690795913996434,
          0.08636711427959501,
          0.07402895509679572,
          0.08636711427959501,
          0.259101342838785,
          0.061690795913996434,
          0.11104343264519358,
          0.07402895509679572,
          0.13571975101079214,
          0.2714395020215843,
          0.07402895509679572
         ],
         "yaxis": "y"
        }
       ],
       "layout": {
        "barmode": "relative",
        "coloraxis": {
         "colorbar": {
          "title": {
           "text": "Fréquence"
          }
         },
         "colorscale": [
          [
           0,
           "#0d0887"
          ],
          [
           0.1111111111111111,
           "#46039f"
          ],
          [
           0.2222222222222222,
           "#7201a8"
          ],
          [
           0.3333333333333333,
           "#9c179e"
          ],
          [
           0.4444444444444444,
           "#bd3786"
          ],
          [
           0.5555555555555556,
           "#d8576b"
          ],
          [
           0.6666666666666666,
           "#ed7953"
          ],
          [
           0.7777777777777778,
           "#fb9f3a"
          ],
          [
           0.8888888888888888,
           "#fdca26"
          ],
          [
           1,
           "#f0f921"
          ]
         ]
        },
        "legend": {
         "tracegroupgap": 0
        },
        "margin": {
         "b": 120,
         "l": 40,
         "r": 20,
         "t": 40
        },
        "template": {
         "data": {
          "bar": [
           {
            "error_x": {
             "color": "#2a3f5f"
            },
            "error_y": {
             "color": "#2a3f5f"
            },
            "marker": {
             "line": {
              "color": "#E5ECF6",
              "width": 0.5
             },
             "pattern": {
              "fillmode": "overlay",
              "size": 10,
              "solidity": 0.2
             }
            },
            "type": "bar"
           }
          ],
          "barpolar": [
           {
            "marker": {
             "line": {
              "color": "#E5ECF6",
              "width": 0.5
             },
             "pattern": {
              "fillmode": "overlay",
              "size": 10,
              "solidity": 0.2
             }
            },
            "type": "barpolar"
           }
          ],
          "carpet": [
           {
            "aaxis": {
             "endlinecolor": "#2a3f5f",
             "gridcolor": "white",
             "linecolor": "white",
             "minorgridcolor": "white",
             "startlinecolor": "#2a3f5f"
            },
            "baxis": {
             "endlinecolor": "#2a3f5f",
             "gridcolor": "white",
             "linecolor": "white",
             "minorgridcolor": "white",
             "startlinecolor": "#2a3f5f"
            },
            "type": "carpet"
           }
          ],
          "choropleth": [
           {
            "colorbar": {
             "outlinewidth": 0,
             "ticks": ""
            },
            "type": "choropleth"
           }
          ],
          "contour": [
           {
            "colorbar": {
             "outlinewidth": 0,
             "ticks": ""
            },
            "colorscale": [
             [
              0,
              "#0d0887"
             ],
             [
              0.1111111111111111,
              "#46039f"
             ],
             [
              0.2222222222222222,
              "#7201a8"
             ],
             [
              0.3333333333333333,
              "#9c179e"
             ],
             [
              0.4444444444444444,
              "#bd3786"
             ],
             [
              0.5555555555555556,
              "#d8576b"
             ],
             [
              0.6666666666666666,
              "#ed7953"
             ],
             [
              0.7777777777777778,
              "#fb9f3a"
             ],
             [
              0.8888888888888888,
              "#fdca26"
             ],
             [
              1,
              "#f0f921"
             ]
            ],
            "type": "contour"
           }
          ],
          "contourcarpet": [
           {
            "colorbar": {
             "outlinewidth": 0,
             "ticks": ""
            },
            "type": "contourcarpet"
           }
          ],
          "heatmap": [
           {
            "colorbar": {
             "outlinewidth": 0,
             "ticks": ""
            },
            "colorscale": [
             [
              0,
              "#0d0887"
             ],
             [
              0.1111111111111111,
              "#46039f"
             ],
             [
              0.2222222222222222,
              "#7201a8"
             ],
             [
              0.3333333333333333,
              "#9c179e"
             ],
             [
              0.4444444444444444,
              "#bd3786"
             ],
             [
              0.5555555555555556,
              "#d8576b"
             ],
             [
              0.6666666666666666,
              "#ed7953"
             ],
             [
              0.7777777777777778,
              "#fb9f3a"
             ],
             [
              0.8888888888888888,
              "#fdca26"
             ],
             [
              1,
              "#f0f921"
             ]
            ],
            "type": "heatmap"
           }
          ],
          "heatmapgl": [
           {
            "colorbar": {
             "outlinewidth": 0,
             "ticks": ""
            },
            "colorscale": [
             [
              0,
              "#0d0887"
             ],
             [
              0.1111111111111111,
              "#46039f"
             ],
             [
              0.2222222222222222,
              "#7201a8"
             ],
             [
              0.3333333333333333,
              "#9c179e"
             ],
             [
              0.4444444444444444,
              "#bd3786"
             ],
             [
              0.5555555555555556,
              "#d8576b"
             ],
             [
              0.6666666666666666,
              "#ed7953"
             ],
             [
              0.7777777777777778,
              "#fb9f3a"
             ],
             [
              0.8888888888888888,
              "#fdca26"
             ],
             [
              1,
              "#f0f921"
             ]
            ],
            "type": "heatmapgl"
           }
          ],
          "histogram": [
           {
            "marker": {
             "pattern": {
              "fillmode": "overlay",
              "size": 10,
              "solidity": 0.2
             }
            },
            "type": "histogram"
           }
          ],
          "histogram2d": [
           {
            "colorbar": {
             "outlinewidth": 0,
             "ticks": ""
            },
            "colorscale": [
             [
              0,
              "#0d0887"
             ],
             [
              0.1111111111111111,
              "#46039f"
             ],
             [
              0.2222222222222222,
              "#7201a8"
             ],
             [
              0.3333333333333333,
              "#9c179e"
             ],
             [
              0.4444444444444444,
              "#bd3786"
             ],
             [
              0.5555555555555556,
              "#d8576b"
             ],
             [
              0.6666666666666666,
              "#ed7953"
             ],
             [
              0.7777777777777778,
              "#fb9f3a"
             ],
             [
              0.8888888888888888,
              "#fdca26"
             ],
             [
              1,
              "#f0f921"
             ]
            ],
            "type": "histogram2d"
           }
          ],
          "histogram2dcontour": [
           {
            "colorbar": {
             "outlinewidth": 0,
             "ticks": ""
            },
            "colorscale": [
             [
              0,
              "#0d0887"
             ],
             [
              0.1111111111111111,
              "#46039f"
             ],
             [
              0.2222222222222222,
              "#7201a8"
             ],
             [
              0.3333333333333333,
              "#9c179e"
             ],
             [
              0.4444444444444444,
              "#bd3786"
             ],
             [
              0.5555555555555556,
              "#d8576b"
             ],
             [
              0.6666666666666666,
              "#ed7953"
             ],
             [
              0.7777777777777778,
              "#fb9f3a"
             ],
             [
              0.8888888888888888,
              "#fdca26"
             ],
             [
              1,
              "#f0f921"
             ]
            ],
            "type": "histogram2dcontour"
           }
          ],
          "mesh3d": [
           {
            "colorbar": {
             "outlinewidth": 0,
             "ticks": ""
            },
            "type": "mesh3d"
           }
          ],
          "parcoords": [
           {
            "line": {
             "colorbar": {
              "outlinewidth": 0,
              "ticks": ""
             }
            },
            "type": "parcoords"
           }
          ],
          "pie": [
           {
            "automargin": true,
            "type": "pie"
           }
          ],
          "scatter": [
           {
            "fillpattern": {
             "fillmode": "overlay",
             "size": 10,
             "solidity": 0.2
            },
            "type": "scatter"
           }
          ],
          "scatter3d": [
           {
            "line": {
             "colorbar": {
              "outlinewidth": 0,
              "ticks": ""
             }
            },
            "marker": {
             "colorbar": {
              "outlinewidth": 0,
              "ticks": ""
             }
            },
            "type": "scatter3d"
           }
          ],
          "scattercarpet": [
           {
            "marker": {
             "colorbar": {
              "outlinewidth": 0,
              "ticks": ""
             }
            },
            "type": "scattercarpet"
           }
          ],
          "scattergeo": [
           {
            "marker": {
             "colorbar": {
              "outlinewidth": 0,
              "ticks": ""
             }
            },
            "type": "scattergeo"
           }
          ],
          "scattergl": [
           {
            "marker": {
             "colorbar": {
              "outlinewidth": 0,
              "ticks": ""
             }
            },
            "type": "scattergl"
           }
          ],
          "scattermapbox": [
           {
            "marker": {
             "colorbar": {
              "outlinewidth": 0,
              "ticks": ""
             }
            },
            "type": "scattermapbox"
           }
          ],
          "scatterpolar": [
           {
            "marker": {
             "colorbar": {
              "outlinewidth": 0,
              "ticks": ""
             }
            },
            "type": "scatterpolar"
           }
          ],
          "scatterpolargl": [
           {
            "marker": {
             "colorbar": {
              "outlinewidth": 0,
              "ticks": ""
             }
            },
            "type": "scatterpolargl"
           }
          ],
          "scatterternary": [
           {
            "marker": {
             "colorbar": {
              "outlinewidth": 0,
              "ticks": ""
             }
            },
            "type": "scatterternary"
           }
          ],
          "surface": [
           {
            "colorbar": {
             "outlinewidth": 0,
             "ticks": ""
            },
            "colorscale": [
             [
              0,
              "#0d0887"
             ],
             [
              0.1111111111111111,
              "#46039f"
             ],
             [
              0.2222222222222222,
              "#7201a8"
             ],
             [
              0.3333333333333333,
              "#9c179e"
             ],
             [
              0.4444444444444444,
              "#bd3786"
             ],
             [
              0.5555555555555556,
              "#d8576b"
             ],
             [
              0.6666666666666666,
              "#ed7953"
             ],
             [
              0.7777777777777778,
              "#fb9f3a"
             ],
             [
              0.8888888888888888,
              "#fdca26"
             ],
             [
              1,
              "#f0f921"
             ]
            ],
            "type": "surface"
           }
          ],
          "table": [
           {
            "cells": {
             "fill": {
              "color": "#EBF0F8"
             },
             "line": {
              "color": "white"
             }
            },
            "header": {
             "fill": {
              "color": "#C8D4E3"
             },
             "line": {
              "color": "white"
             }
            },
            "type": "table"
           }
          ]
         },
         "layout": {
          "annotationdefaults": {
           "arrowcolor": "#2a3f5f",
           "arrowhead": 0,
           "arrowwidth": 1
          },
          "autotypenumbers": "strict",
          "coloraxis": {
           "colorbar": {
            "outlinewidth": 0,
            "ticks": ""
           }
          },
          "colorscale": {
           "diverging": [
            [
             0,
             "#8e0152"
            ],
            [
             0.1,
             "#c51b7d"
            ],
            [
             0.2,
             "#de77ae"
            ],
            [
             0.3,
             "#f1b6da"
            ],
            [
             0.4,
             "#fde0ef"
            ],
            [
             0.5,
             "#f7f7f7"
            ],
            [
             0.6,
             "#e6f5d0"
            ],
            [
             0.7,
             "#b8e186"
            ],
            [
             0.8,
             "#7fbc41"
            ],
            [
             0.9,
             "#4d9221"
            ],
            [
             1,
             "#276419"
            ]
           ],
           "sequential": [
            [
             0,
             "#0d0887"
            ],
            [
             0.1111111111111111,
             "#46039f"
            ],
            [
             0.2222222222222222,
             "#7201a8"
            ],
            [
             0.3333333333333333,
             "#9c179e"
            ],
            [
             0.4444444444444444,
             "#bd3786"
            ],
            [
             0.5555555555555556,
             "#d8576b"
            ],
            [
             0.6666666666666666,
             "#ed7953"
            ],
            [
             0.7777777777777778,
             "#fb9f3a"
            ],
            [
             0.8888888888888888,
             "#fdca26"
            ],
            [
             1,
             "#f0f921"
            ]
           ],
           "sequentialminus": [
            [
             0,
             "#0d0887"
            ],
            [
             0.1111111111111111,
             "#46039f"
            ],
            [
             0.2222222222222222,
             "#7201a8"
            ],
            [
             0.3333333333333333,
             "#9c179e"
            ],
            [
             0.4444444444444444,
             "#bd3786"
            ],
            [
             0.5555555555555556,
             "#d8576b"
            ],
            [
             0.6666666666666666,
             "#ed7953"
            ],
            [
             0.7777777777777778,
             "#fb9f3a"
            ],
            [
             0.8888888888888888,
             "#fdca26"
            ],
            [
             1,
             "#f0f921"
            ]
           ]
          },
          "colorway": [
           "#636efa",
           "#EF553B",
           "#00cc96",
           "#ab63fa",
           "#FFA15A",
           "#19d3f3",
           "#FF6692",
           "#B6E880",
           "#FF97FF",
           "#FECB52"
          ],
          "font": {
           "color": "#2a3f5f"
          },
          "geo": {
           "bgcolor": "white",
           "lakecolor": "white",
           "landcolor": "#E5ECF6",
           "showlakes": true,
           "showland": true,
           "subunitcolor": "white"
          },
          "hoverlabel": {
           "align": "left"
          },
          "hovermode": "closest",
          "mapbox": {
           "style": "light"
          },
          "paper_bgcolor": "white",
          "plot_bgcolor": "#E5ECF6",
          "polar": {
           "angularaxis": {
            "gridcolor": "white",
            "linecolor": "white",
            "ticks": ""
           },
           "bgcolor": "#E5ECF6",
           "radialaxis": {
            "gridcolor": "white",
            "linecolor": "white",
            "ticks": ""
           }
          },
          "scene": {
           "xaxis": {
            "backgroundcolor": "#E5ECF6",
            "gridcolor": "white",
            "gridwidth": 2,
            "linecolor": "white",
            "showbackground": true,
            "ticks": "",
            "zerolinecolor": "white"
           },
           "yaxis": {
            "backgroundcolor": "#E5ECF6",
            "gridcolor": "white",
            "gridwidth": 2,
            "linecolor": "white",
            "showbackground": true,
            "ticks": "",
            "zerolinecolor": "white"
           },
           "zaxis": {
            "backgroundcolor": "#E5ECF6",
            "gridcolor": "white",
            "gridwidth": 2,
            "linecolor": "white",
            "showbackground": true,
            "ticks": "",
            "zerolinecolor": "white"
           }
          },
          "shapedefaults": {
           "line": {
            "color": "#2a3f5f"
           }
          },
          "ternary": {
           "aaxis": {
            "gridcolor": "white",
            "linecolor": "white",
            "ticks": ""
           },
           "baxis": {
            "gridcolor": "white",
            "linecolor": "white",
            "ticks": ""
           },
           "bgcolor": "#E5ECF6",
           "caxis": {
            "gridcolor": "white",
            "linecolor": "white",
            "ticks": ""
           }
          },
          "title": {
           "x": 0.05
          },
          "xaxis": {
           "automargin": true,
           "gridcolor": "white",
           "linecolor": "white",
           "ticks": "",
           "title": {
            "standoff": 15
           },
           "zerolinecolor": "white",
           "zerolinewidth": 2
          },
          "yaxis": {
           "automargin": true,
           "gridcolor": "white",
           "linecolor": "white",
           "ticks": "",
           "title": {
            "standoff": 15
           },
           "zerolinecolor": "white",
           "zerolinewidth": 2
          }
         }
        },
        "title": {
         "text": "Fréquence des mots pertinents (TF-IDF)"
        },
        "xaxis": {
         "anchor": "y",
         "domain": [
          0,
          1
         ],
         "tickangle": 45,
         "title": {
          "text": "Mots"
         }
        },
        "yaxis": {
         "anchor": "x",
         "domain": [
          0,
          1
         ],
         "title": {
          "text": "Fréquence"
         }
        }
       }
      }
     },
     "metadata": {},
     "output_type": "display_data"
    }
   ],
   "source": [
    "import plotly.express as px\n",
    "\n",
    "# Créer un graphique avec les mots pertinents\n",
    "fig = px.bar(filtered_tdidf_df, x='Mot', y='Fréquence', title=\"Fréquence des mots pertinents (TF-IDF)\",\n",
    "             text='Fréquence', color='Fréquence', hover_name='Mot')\n",
    "\n",
    "# Personnaliser le graphique\n",
    "fig.update_traces(textposition='outside')\n",
    "fig.update_layout(\n",
    "    xaxis_title='Mots', yaxis_title='Fréquence',\n",
    "    xaxis=dict(tickangle=45),\n",
    "    margin=dict(l=40, r=20, t=40, b=120)\n",
    ")\n",
    "\n",
    "# Afficher le graphique\n",
    "fig.show()\n"
   ]
  },
  {
   "cell_type": "code",
   "execution_count": 35,
   "metadata": {},
   "outputs": [
    {
     "data": {
      "application/vnd.plotly.v1+json": {
       "config": {
        "plotlyServerURL": "https://plot.ly"
       },
       "data": [
        {
         "hovertemplate": "x: %{x}<br>y: %{y}<br>color: [%{z[0]}, %{z[1]}, %{z[2]}]<extra></extra>",
         "name": "0",
         "source": "data:image/png;base64,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",
         "type": "image",
         "xaxis": "x",
         "yaxis": "y"
        }
       ],
       "layout": {
        "coloraxis": {
         "showscale": false
        },
        "margin": {
         "b": 0,
         "l": 0,
         "r": 0,
         "t": 0
        },
        "template": {
         "data": {
          "bar": [
           {
            "error_x": {
             "color": "#2a3f5f"
            },
            "error_y": {
             "color": "#2a3f5f"
            },
            "marker": {
             "line": {
              "color": "#E5ECF6",
              "width": 0.5
             },
             "pattern": {
              "fillmode": "overlay",
              "size": 10,
              "solidity": 0.2
             }
            },
            "type": "bar"
           }
          ],
          "barpolar": [
           {
            "marker": {
             "line": {
              "color": "#E5ECF6",
              "width": 0.5
             },
             "pattern": {
              "fillmode": "overlay",
              "size": 10,
              "solidity": 0.2
             }
            },
            "type": "barpolar"
           }
          ],
          "carpet": [
           {
            "aaxis": {
             "endlinecolor": "#2a3f5f",
             "gridcolor": "white",
             "linecolor": "white",
             "minorgridcolor": "white",
             "startlinecolor": "#2a3f5f"
            },
            "baxis": {
             "endlinecolor": "#2a3f5f",
             "gridcolor": "white",
             "linecolor": "white",
             "minorgridcolor": "white",
             "startlinecolor": "#2a3f5f"
            },
            "type": "carpet"
           }
          ],
          "choropleth": [
           {
            "colorbar": {
             "outlinewidth": 0,
             "ticks": ""
            },
            "type": "choropleth"
           }
          ],
          "contour": [
           {
            "colorbar": {
             "outlinewidth": 0,
             "ticks": ""
            },
            "colorscale": [
             [
              0,
              "#0d0887"
             ],
             [
              0.1111111111111111,
              "#46039f"
             ],
             [
              0.2222222222222222,
              "#7201a8"
             ],
             [
              0.3333333333333333,
              "#9c179e"
             ],
             [
              0.4444444444444444,
              "#bd3786"
             ],
             [
              0.5555555555555556,
              "#d8576b"
             ],
             [
              0.6666666666666666,
              "#ed7953"
             ],
             [
              0.7777777777777778,
              "#fb9f3a"
             ],
             [
              0.8888888888888888,
              "#fdca26"
             ],
             [
              1,
              "#f0f921"
             ]
            ],
            "type": "contour"
           }
          ],
          "contourcarpet": [
           {
            "colorbar": {
             "outlinewidth": 0,
             "ticks": ""
            },
            "type": "contourcarpet"
           }
          ],
          "heatmap": [
           {
            "colorbar": {
             "outlinewidth": 0,
             "ticks": ""
            },
            "colorscale": [
             [
              0,
              "#0d0887"
             ],
             [
              0.1111111111111111,
              "#46039f"
             ],
             [
              0.2222222222222222,
              "#7201a8"
             ],
             [
              0.3333333333333333,
              "#9c179e"
             ],
             [
              0.4444444444444444,
              "#bd3786"
             ],
             [
              0.5555555555555556,
              "#d8576b"
             ],
             [
              0.6666666666666666,
              "#ed7953"
             ],
             [
              0.7777777777777778,
              "#fb9f3a"
             ],
             [
              0.8888888888888888,
              "#fdca26"
             ],
             [
              1,
              "#f0f921"
             ]
            ],
            "type": "heatmap"
           }
          ],
          "heatmapgl": [
           {
            "colorbar": {
             "outlinewidth": 0,
             "ticks": ""
            },
            "colorscale": [
             [
              0,
              "#0d0887"
             ],
             [
              0.1111111111111111,
              "#46039f"
             ],
             [
              0.2222222222222222,
              "#7201a8"
             ],
             [
              0.3333333333333333,
              "#9c179e"
             ],
             [
              0.4444444444444444,
              "#bd3786"
             ],
             [
              0.5555555555555556,
              "#d8576b"
             ],
             [
              0.6666666666666666,
              "#ed7953"
             ],
             [
              0.7777777777777778,
              "#fb9f3a"
             ],
             [
              0.8888888888888888,
              "#fdca26"
             ],
             [
              1,
              "#f0f921"
             ]
            ],
            "type": "heatmapgl"
           }
          ],
          "histogram": [
           {
            "marker": {
             "pattern": {
              "fillmode": "overlay",
              "size": 10,
              "solidity": 0.2
             }
            },
            "type": "histogram"
           }
          ],
          "histogram2d": [
           {
            "colorbar": {
             "outlinewidth": 0,
             "ticks": ""
            },
            "colorscale": [
             [
              0,
              "#0d0887"
             ],
             [
              0.1111111111111111,
              "#46039f"
             ],
             [
              0.2222222222222222,
              "#7201a8"
             ],
             [
              0.3333333333333333,
              "#9c179e"
             ],
             [
              0.4444444444444444,
              "#bd3786"
             ],
             [
              0.5555555555555556,
              "#d8576b"
             ],
             [
              0.6666666666666666,
              "#ed7953"
             ],
             [
              0.7777777777777778,
              "#fb9f3a"
             ],
             [
              0.8888888888888888,
              "#fdca26"
             ],
             [
              1,
              "#f0f921"
             ]
            ],
            "type": "histogram2d"
           }
          ],
          "histogram2dcontour": [
           {
            "colorbar": {
             "outlinewidth": 0,
             "ticks": ""
            },
            "colorscale": [
             [
              0,
              "#0d0887"
             ],
             [
              0.1111111111111111,
              "#46039f"
             ],
             [
              0.2222222222222222,
              "#7201a8"
             ],
             [
              0.3333333333333333,
              "#9c179e"
             ],
             [
              0.4444444444444444,
              "#bd3786"
             ],
             [
              0.5555555555555556,
              "#d8576b"
             ],
             [
              0.6666666666666666,
              "#ed7953"
             ],
             [
              0.7777777777777778,
              "#fb9f3a"
             ],
             [
              0.8888888888888888,
              "#fdca26"
             ],
             [
              1,
              "#f0f921"
             ]
            ],
            "type": "histogram2dcontour"
           }
          ],
          "mesh3d": [
           {
            "colorbar": {
             "outlinewidth": 0,
             "ticks": ""
            },
            "type": "mesh3d"
           }
          ],
          "parcoords": [
           {
            "line": {
             "colorbar": {
              "outlinewidth": 0,
              "ticks": ""
             }
            },
            "type": "parcoords"
           }
          ],
          "pie": [
           {
            "automargin": true,
            "type": "pie"
           }
          ],
          "scatter": [
           {
            "fillpattern": {
             "fillmode": "overlay",
             "size": 10,
             "solidity": 0.2
            },
            "type": "scatter"
           }
          ],
          "scatter3d": [
           {
            "line": {
             "colorbar": {
              "outlinewidth": 0,
              "ticks": ""
             }
            },
            "marker": {
             "colorbar": {
              "outlinewidth": 0,
              "ticks": ""
             }
            },
            "type": "scatter3d"
           }
          ],
          "scattercarpet": [
           {
            "marker": {
             "colorbar": {
              "outlinewidth": 0,
              "ticks": ""
             }
            },
            "type": "scattercarpet"
           }
          ],
          "scattergeo": [
           {
            "marker": {
             "colorbar": {
              "outlinewidth": 0,
              "ticks": ""
             }
            },
            "type": "scattergeo"
           }
          ],
          "scattergl": [
           {
            "marker": {
             "colorbar": {
              "outlinewidth": 0,
              "ticks": ""
             }
            },
            "type": "scattergl"
           }
          ],
          "scattermapbox": [
           {
            "marker": {
             "colorbar": {
              "outlinewidth": 0,
              "ticks": ""
             }
            },
            "type": "scattermapbox"
           }
          ],
          "scatterpolar": [
           {
            "marker": {
             "colorbar": {
              "outlinewidth": 0,
              "ticks": ""
             }
            },
            "type": "scatterpolar"
           }
          ],
          "scatterpolargl": [
           {
            "marker": {
             "colorbar": {
              "outlinewidth": 0,
              "ticks": ""
             }
            },
            "type": "scatterpolargl"
           }
          ],
          "scatterternary": [
           {
            "marker": {
             "colorbar": {
              "outlinewidth": 0,
              "ticks": ""
             }
            },
            "type": "scatterternary"
           }
          ],
          "surface": [
           {
            "colorbar": {
             "outlinewidth": 0,
             "ticks": ""
            },
            "colorscale": [
             [
              0,
              "#0d0887"
             ],
             [
              0.1111111111111111,
              "#46039f"
             ],
             [
              0.2222222222222222,
              "#7201a8"
             ],
             [
              0.3333333333333333,
              "#9c179e"
             ],
             [
              0.4444444444444444,
              "#bd3786"
             ],
             [
              0.5555555555555556,
              "#d8576b"
             ],
             [
              0.6666666666666666,
              "#ed7953"
             ],
             [
              0.7777777777777778,
              "#fb9f3a"
             ],
             [
              0.8888888888888888,
              "#fdca26"
             ],
             [
              1,
              "#f0f921"
             ]
            ],
            "type": "surface"
           }
          ],
          "table": [
           {
            "cells": {
             "fill": {
              "color": "#EBF0F8"
             },
             "line": {
              "color": "white"
             }
            },
            "header": {
             "fill": {
              "color": "#C8D4E3"
             },
             "line": {
              "color": "white"
             }
            },
            "type": "table"
           }
          ]
         },
         "layout": {
          "annotationdefaults": {
           "arrowcolor": "#2a3f5f",
           "arrowhead": 0,
           "arrowwidth": 1
          },
          "autotypenumbers": "strict",
          "coloraxis": {
           "colorbar": {
            "outlinewidth": 0,
            "ticks": ""
           }
          },
          "colorscale": {
           "diverging": [
            [
             0,
             "#8e0152"
            ],
            [
             0.1,
             "#c51b7d"
            ],
            [
             0.2,
             "#de77ae"
            ],
            [
             0.3,
             "#f1b6da"
            ],
            [
             0.4,
             "#fde0ef"
            ],
            [
             0.5,
             "#f7f7f7"
            ],
            [
             0.6,
             "#e6f5d0"
            ],
            [
             0.7,
             "#b8e186"
            ],
            [
             0.8,
             "#7fbc41"
            ],
            [
             0.9,
             "#4d9221"
            ],
            [
             1,
             "#276419"
            ]
           ],
           "sequential": [
            [
             0,
             "#0d0887"
            ],
            [
             0.1111111111111111,
             "#46039f"
            ],
            [
             0.2222222222222222,
             "#7201a8"
            ],
            [
             0.3333333333333333,
             "#9c179e"
            ],
            [
             0.4444444444444444,
             "#bd3786"
            ],
            [
             0.5555555555555556,
             "#d8576b"
            ],
            [
             0.6666666666666666,
             "#ed7953"
            ],
            [
             0.7777777777777778,
             "#fb9f3a"
            ],
            [
             0.8888888888888888,
             "#fdca26"
            ],
            [
             1,
             "#f0f921"
            ]
           ],
           "sequentialminus": [
            [
             0,
             "#0d0887"
            ],
            [
             0.1111111111111111,
             "#46039f"
            ],
            [
             0.2222222222222222,
             "#7201a8"
            ],
            [
             0.3333333333333333,
             "#9c179e"
            ],
            [
             0.4444444444444444,
             "#bd3786"
            ],
            [
             0.5555555555555556,
             "#d8576b"
            ],
            [
             0.6666666666666666,
             "#ed7953"
            ],
            [
             0.7777777777777778,
             "#fb9f3a"
            ],
            [
             0.8888888888888888,
             "#fdca26"
            ],
            [
             1,
             "#f0f921"
            ]
           ]
          },
          "colorway": [
           "#636efa",
           "#EF553B",
           "#00cc96",
           "#ab63fa",
           "#FFA15A",
           "#19d3f3",
           "#FF6692",
           "#B6E880",
           "#FF97FF",
           "#FECB52"
          ],
          "font": {
           "color": "#2a3f5f"
          },
          "geo": {
           "bgcolor": "white",
           "lakecolor": "white",
           "landcolor": "#E5ECF6",
           "showlakes": true,
           "showland": true,
           "subunitcolor": "white"
          },
          "hoverlabel": {
           "align": "left"
          },
          "hovermode": "closest",
          "mapbox": {
           "style": "light"
          },
          "paper_bgcolor": "white",
          "plot_bgcolor": "#E5ECF6",
          "polar": {
           "angularaxis": {
            "gridcolor": "white",
            "linecolor": "white",
            "ticks": ""
           },
           "bgcolor": "#E5ECF6",
           "radialaxis": {
            "gridcolor": "white",
            "linecolor": "white",
            "ticks": ""
           }
          },
          "scene": {
           "xaxis": {
            "backgroundcolor": "#E5ECF6",
            "gridcolor": "white",
            "gridwidth": 2,
            "linecolor": "white",
            "showbackground": true,
            "ticks": "",
            "zerolinecolor": "white"
           },
           "yaxis": {
            "backgroundcolor": "#E5ECF6",
            "gridcolor": "white",
            "gridwidth": 2,
            "linecolor": "white",
            "showbackground": true,
            "ticks": "",
            "zerolinecolor": "white"
           },
           "zaxis": {
            "backgroundcolor": "#E5ECF6",
            "gridcolor": "white",
            "gridwidth": 2,
            "linecolor": "white",
            "showbackground": true,
            "ticks": "",
            "zerolinecolor": "white"
           }
          },
          "shapedefaults": {
           "line": {
            "color": "#2a3f5f"
           }
          },
          "ternary": {
           "aaxis": {
            "gridcolor": "white",
            "linecolor": "white",
            "ticks": ""
           },
           "baxis": {
            "gridcolor": "white",
            "linecolor": "white",
            "ticks": ""
           },
           "bgcolor": "#E5ECF6",
           "caxis": {
            "gridcolor": "white",
            "linecolor": "white",
            "ticks": ""
           }
          },
          "title": {
           "x": 0.05
          },
          "xaxis": {
           "automargin": true,
           "gridcolor": "white",
           "linecolor": "white",
           "ticks": "",
           "title": {
            "standoff": 15
           },
           "zerolinecolor": "white",
           "zerolinewidth": 2
          },
          "yaxis": {
           "automargin": true,
           "gridcolor": "white",
           "linecolor": "white",
           "ticks": "",
           "title": {
            "standoff": 15
           },
           "zerolinecolor": "white",
           "zerolinewidth": 2
          }
         }
        },
        "xaxis": {
         "anchor": "y",
         "domain": [
          0,
          1
         ],
         "showticklabels": false
        },
        "yaxis": {
         "anchor": "x",
         "domain": [
          0,
          1
         ],
         "showticklabels": false
        }
       }
      }
     },
     "metadata": {},
     "output_type": "display_data"
    }
   ],
   "source": [
    "from collections import defaultdict\n",
    "from wordcloud import WordCloud\n",
    "import plotly.express as px\n",
    "import pandas as pd\n",
    "\n",
    "\n",
    "# Génération du WordCloud avec les mots filtrés\n",
    "word_weights = dict(zip(filtered_tdidf_df['Mot'], filtered_tdidf_df['Fréquence']))\n",
    "\n",
    "wordcloud = WordCloud(\n",
    "    width=800,\n",
    "    height=400,\n",
    "    background_color='white',\n",
    "    colormap='viridis'\n",
    ").generate_from_frequencies(word_weights)\n",
    "\n",
    "# Conversion en image pour affichage avec Plotly\n",
    "wordcloud_image = wordcloud.to_array()\n",
    "\n",
    "# Affichage avec Plotly\n",
    "fig = px.imshow(\n",
    "    wordcloud_image,\n",
    "    \n",
    "    color_continuous_scale=\"viridis\"\n",
    ")\n",
    "\n",
    "# Suppression des marges et des bordures blanches\n",
    "fig.update_layout(\n",
    "    margin=dict(l=0, r=0, t=0, b=0),  # Suppression des marges\n",
    "    coloraxis_showscale=False  # Suppression de l'échelle des couleurs si non nécessaire\n",
    ")\n",
    "\n",
    "fig.update_xaxes(showticklabels=False)\n",
    "fig.update_yaxes(showticklabels=False)\n",
    "fig.show()\n"
   ]
  },
  {
   "cell_type": "markdown",
   "metadata": {},
   "source": [
    "Concatenation des deux wordCloud en combinant le fitrage des dataFrame"
   ]
  },
  {
   "cell_type": "code",
   "execution_count": 36,
   "metadata": {},
   "outputs": [],
   "source": [
    "import pickle  # Importer pickle pour la sérialisation\n",
    "from wordcloud import WordCloud\n",
    "import pandas as pd\n",
    "import plotly.express as px\n",
    "\n",
    "def save_wordcloud(filtered_tfidf_df, filtered_tdidf_df): # liaison avec notre streamlit\n",
    "    \"\"\"\n",
    "    Génère et sauvegarde un Word Cloud combiné dans un fichier Pickle.\n",
    "    \"\"\"\n",
    "    # Fusionner les DataFrames sur la colonne 'Mot'\n",
    "    combined_df = pd.concat([filtered_tfidf_df, filtered_tdidf_df])\n",
    "    combined_df = combined_df.groupby('Mot', as_index=False).sum()  # Additionner les fréquences des mots communs\n",
    "\n",
    "    # Convertir en dictionnaire pour le Word Cloud\n",
    "    word_weights = dict(zip(combined_df['Mot'], combined_df['Fréquence']))\n",
    "\n",
    "    # Générer le Word Cloud combiné\n",
    "    wordcloud = WordCloud(\n",
    "        width=800,\n",
    "        height=400,\n",
    "        background_color='white',\n",
    "        colormap='cool'\n",
    "    ).generate_from_frequencies(word_weights)\n",
    "\n",
    "    # Sauvegarder le Word Cloud en fichier Pickle\n",
    "    with open(\"wordcloud.pkl\", \"wb\") as f:\n",
    "        pickle.dump(wordcloud, f)\n",
    "\n",
    "    print(\"Word Cloud sauvegardé avec succès.\")\n"
   ]
  },
  {
   "cell_type": "code",
   "execution_count": 37,
   "metadata": {},
   "outputs": [
    {
     "name": "stdout",
     "output_type": "stream",
     "text": [
      "Word Cloud sauvegardé avec succès.\n"
     ]
    }
   ],
   "source": [
    "# pour generer le WordCloud combiner dans le repertoire\n",
    "save_wordcloud(filtered_tfidf_df, filtered_tdidf_df)\n"
   ]
  }
 ],
 "metadata": {
  "kernelspec": {
   "display_name": "Python 3",
   "language": "python",
   "name": "python3"
  },
  "language_info": {
   "codemirror_mode": {
    "name": "ipython",
    "version": 3
   },
   "file_extension": ".py",
   "mimetype": "text/x-python",
   "name": "python",
   "nbconvert_exporter": "python",
   "pygments_lexer": "ipython3",
   "version": "3.12.6"
  }
 },
 "nbformat": 4,
 "nbformat_minor": 2
}
